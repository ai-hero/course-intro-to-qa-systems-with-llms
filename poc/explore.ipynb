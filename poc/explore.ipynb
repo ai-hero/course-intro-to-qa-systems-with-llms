{
 "cells": [
  {
   "cell_type": "markdown",
   "metadata": {
    "id": "LkNZ6hp6K8l6"
   },
   "source": [
    "# Retrieval Augmented Generation using LLMs on Proprietary Data \n",
    "\n",
    "In this tutorial, we'll create a proof of concept prototype that uses MLOps community data from our Slack channel and answer questions based on combined community knowledge.\n",
    "\n",
    "### IMPORTANT:\n",
    "Please use the virtualenv set up for you following the README in the parent project.\n",
    "It will install the dependencies needed for the entire repo."
   ]
  },
  {
   "cell_type": "markdown",
   "metadata": {
    "id": "rTCDcPB9LMjx"
   },
   "source": [
    "## Setup Environment"
   ]
  },
  {
   "cell_type": "code",
   "execution_count": 19,
   "metadata": {},
   "outputs": [
    {
     "data": {
      "text/html": [
       "\n",
       "  <style>\n",
       "    pre {\n",
       "        white-space: pre-wrap;\n",
       "    }\n",
       "  </style>\n",
       "  "
      ],
      "text/plain": [
       "<IPython.core.display.HTML object>"
      ]
     },
     "metadata": {},
     "output_type": "display_data"
    }
   ],
   "source": [
    "# LOAD ENVIRONMENT VARIABLES\n",
    "import os\n",
    "from dotenv import load_dotenv\n",
    "\n",
    "# Load the .env file\n",
    "load_dotenv(dotenv_path=\"./.env\")  # Change this to your own .env file, if not using the venv\n",
    "assert os.getenv(\"OPENAI_API_KEY\") is not None, \"OPENAI_API_KEY not found in .env file\""
   ]
  },
  {
   "cell_type": "code",
   "execution_count": 20,
   "metadata": {
    "executionInfo": {
     "elapsed": 9,
     "status": "ok",
     "timestamp": 1686710999797,
     "user": {
      "displayName": "Rahul Parundekar",
      "userId": "17922132101761181839"
     },
     "user_tz": 420
    },
    "id": "iMTC5i-bMLwD"
   },
   "outputs": [
    {
     "data": {
      "text/html": [
       "\n",
       "  <style>\n",
       "    pre {\n",
       "        white-space: pre-wrap;\n",
       "    }\n",
       "  </style>\n",
       "  "
      ],
      "text/plain": [
       "<IPython.core.display.HTML object>"
      ]
     },
     "metadata": {},
     "output_type": "display_data"
    }
   ],
   "source": [
    "# Since we have some long lines, let's make sure output is line wrapped\n",
    "from IPython.display import HTML, display\n",
    "\n",
    "\n",
    "def set_css():\n",
    "    display(\n",
    "        HTML(\n",
    "            \"\"\"\n",
    "  <style>\n",
    "    pre {\n",
    "        white-space: pre-wrap;\n",
    "    }\n",
    "  </style>\n",
    "  \"\"\"\n",
    "        )\n",
    "    )\n",
    "\n",
    "\n",
    "get_ipython().events.register(\"pre_run_cell\", set_css)"
   ]
  },
  {
   "cell_type": "markdown",
   "metadata": {
    "id": "qYS1Vk-xNRBj"
   },
   "source": [
    "## Download the data"
   ]
  },
  {
   "cell_type": "code",
   "execution_count": 21,
   "metadata": {
    "colab": {
     "base_uri": "https://localhost:8080/",
     "height": 856
    },
    "executionInfo": {
     "elapsed": 45507,
     "status": "ok",
     "timestamp": 1686711045297,
     "user": {
      "displayName": "Rahul Parundekar",
      "userId": "17922132101761181839"
     },
     "user_tz": 420
    },
    "id": "Wxl__9HQGoML",
    "outputId": "864f6bc9-7f44-4a22-d395-60f45f551b84"
   },
   "outputs": [
    {
     "data": {
      "text/html": [
       "\n",
       "  <style>\n",
       "    pre {\n",
       "        white-space: pre-wrap;\n",
       "    }\n",
       "  </style>\n",
       "  "
      ],
      "text/plain": [
       "<IPython.core.display.HTML object>"
      ]
     },
     "metadata": {},
     "output_type": "display_data"
    },
    {
     "data": {
      "text/html": [
       "\n",
       "  <style>\n",
       "    pre {\n",
       "        white-space: pre-wrap;\n",
       "    }\n",
       "  </style>\n",
       "  "
      ],
      "text/plain": [
       "<IPython.core.display.HTML object>"
      ]
     },
     "metadata": {},
     "output_type": "display_data"
    },
    {
     "name": "stderr",
     "output_type": "stream",
     "text": [
      "Retrieving folder list\n"
     ]
    },
    {
     "name": "stdout",
     "output_type": "stream",
     "text": [
      "Processing file 137mt0dMX1HTSbzxNzMVdqavT8n9iZM2s chats-embeddings-ada-002.csv\n",
      "Processing file 1JwJ6Tn6NoMG1bAWlWsGD8pQXEUzhCj-i chats.csv\n",
      "Processing file 1DZuCCPtIjtwxtUP3yUmZVafkDaaQ50VR LICENSE.txt\n",
      "Processing file 1XW0V_s9ERULIPvzSUkV4igDvamWlYgMj messages.csv\n",
      "Processing file 16Qog5TuadeZfhlhYKZJoK2AFD3cTp2zB questions_list_all.csv\n",
      "Building directory structure completed\n"
     ]
    },
    {
     "name": "stderr",
     "output_type": "stream",
     "text": [
      "Retrieving folder list completed\n",
      "Building directory structure\n",
      "Downloading...\n",
      "From (uriginal): https://drive.google.com/uc?id=137mt0dMX1HTSbzxNzMVdqavT8n9iZM2s\n",
      "From (redirected): https://drive.google.com/uc?id=137mt0dMX1HTSbzxNzMVdqavT8n9iZM2s&confirm=t&uuid=adab2017-8079-4f90-ad84-dc4985965616\n",
      "To: /Users/rahulparundekar/workspaces/ai-hero/course-intro-to-qa-systems-with-llms/poc/.content/chats/chats-embeddings-ada-002.csv\n",
      "100%|██████████| 334M/334M [00:50<00:00, 6.66MB/s] \n",
      "Downloading...\n",
      "From: https://drive.google.com/uc?id=1JwJ6Tn6NoMG1bAWlWsGD8pQXEUzhCj-i\n",
      "To: /Users/rahulparundekar/workspaces/ai-hero/course-intro-to-qa-systems-with-llms/poc/.content/chats/chats.csv\n",
      "100%|██████████| 21.0M/21.0M [00:03<00:00, 6.83MB/s]\n",
      "Downloading...\n",
      "From: https://drive.google.com/uc?id=1DZuCCPtIjtwxtUP3yUmZVafkDaaQ50VR\n",
      "To: /Users/rahulparundekar/workspaces/ai-hero/course-intro-to-qa-systems-with-llms/poc/.content/chats/LICENSE.txt\n",
      "100%|██████████| 166/166 [00:00<00:00, 341kB/s]\n",
      "Downloading...\n",
      "From: https://drive.google.com/uc?id=1XW0V_s9ERULIPvzSUkV4igDvamWlYgMj\n",
      "To: /Users/rahulparundekar/workspaces/ai-hero/course-intro-to-qa-systems-with-llms/poc/.content/chats/messages.csv\n",
      "100%|██████████| 26.0M/26.0M [00:03<00:00, 6.69MB/s]\n",
      "Downloading...\n",
      "From: https://drive.google.com/uc?id=16Qog5TuadeZfhlhYKZJoK2AFD3cTp2zB\n",
      "To: /Users/rahulparundekar/workspaces/ai-hero/course-intro-to-qa-systems-with-llms/poc/.content/chats/questions_list_all.csv\n",
      "100%|██████████| 14.1k/14.1k [00:00<00:00, 5.30MB/s]\n",
      "Download completed\n"
     ]
    }
   ],
   "source": [
    "from download_chats import download_chats_from_gdrive\n",
    "\n",
    "download_chats_from_gdrive()"
   ]
  },
  {
   "cell_type": "markdown",
   "metadata": {
    "id": "ff4PODEINaXH"
   },
   "source": [
    "### Raw Messages & Embeddings\n",
    "\n",
    "In most real-world applications, data that you're building on top of is never clean. While we've done some preprocessing on our Slack raw data from the community, we're keeping the data as original as possible so that you can explore some of the challeneges in preparing the data for retrieval augmnented generation.\n",
    "\n",
    "Let's load up the messages."
   ]
  },
  {
   "cell_type": "code",
   "execution_count": 22,
   "metadata": {
    "colab": {
     "base_uri": "https://localhost:8080/",
     "height": 206
    },
    "executionInfo": {
     "elapsed": 720,
     "status": "ok",
     "timestamp": 1686711046444,
     "user": {
      "displayName": "Rahul Parundekar",
      "userId": "17922132101761181839"
     },
     "user_tz": 420
    },
    "id": "Gb3WVLtRJpsN",
    "outputId": "f33c5507-9668-43cd-c7ae-aa5d0e48941b"
   },
   "outputs": [
    {
     "data": {
      "text/html": [
       "\n",
       "  <style>\n",
       "    pre {\n",
       "        white-space: pre-wrap;\n",
       "    }\n",
       "  </style>\n",
       "  "
      ],
      "text/plain": [
       "<IPython.core.display.HTML object>"
      ]
     },
     "metadata": {},
     "output_type": "display_data"
    },
    {
     "data": {
      "text/html": [
       "\n",
       "  <style>\n",
       "    pre {\n",
       "        white-space: pre-wrap;\n",
       "    }\n",
       "  </style>\n",
       "  "
      ],
      "text/plain": [
       "<IPython.core.display.HTML object>"
      ]
     },
     "metadata": {},
     "output_type": "display_data"
    },
    {
     "data": {
      "text/html": [
       "<div>\n",
       "<style scoped>\n",
       "    .dataframe tbody tr th:only-of-type {\n",
       "        vertical-align: middle;\n",
       "    }\n",
       "\n",
       "    .dataframe tbody tr th {\n",
       "        vertical-align: top;\n",
       "    }\n",
       "\n",
       "    .dataframe thead th {\n",
       "        text-align: right;\n",
       "    }\n",
       "</style>\n",
       "<table border=\"1\" class=\"dataframe\">\n",
       "  <thead>\n",
       "    <tr style=\"text-align: right;\">\n",
       "      <th></th>\n",
       "      <th>__Source</th>\n",
       "      <th>User_ID</th>\n",
       "      <th>Channel_Name</th>\n",
       "      <th>Message_Timestamp</th>\n",
       "      <th>Thread_Timstamp</th>\n",
       "      <th>Channel_ID</th>\n",
       "      <th>__Text</th>\n",
       "    </tr>\n",
       "  </thead>\n",
       "  <tbody>\n",
       "    <tr>\n",
       "      <th>0</th>\n",
       "      <td>threads</td>\n",
       "      <td>U01T78HPG3H</td>\n",
       "      <td>computer-vision</td>\n",
       "      <td>2023-05-18 11:36:44.001949 UTC</td>\n",
       "      <td>2023-05-18 11:30:13.159979 UTC</td>\n",
       "      <td>C026ED0PZEZ</td>\n",
       "      <td>Both &lt;https://roboflow.github.io/supervision/q...</td>\n",
       "    </tr>\n",
       "    <tr>\n",
       "      <th>1</th>\n",
       "      <td>threads</td>\n",
       "      <td>U01T78HPG3H</td>\n",
       "      <td>computer-vision</td>\n",
       "      <td>2023-05-18 11:30:13.159979 UTC</td>\n",
       "      <td>2023-05-18 11:30:13.159979 UTC</td>\n",
       "      <td>C026ED0PZEZ</td>\n",
       "      <td>Would love a package for suggesting and then i...</td>\n",
       "    </tr>\n",
       "    <tr>\n",
       "      <th>2</th>\n",
       "      <td>threads</td>\n",
       "      <td>U04QRD69H8Q</td>\n",
       "      <td>computer-vision</td>\n",
       "      <td>2023-05-18 10:56:33.313369 UTC</td>\n",
       "      <td>2023-05-17 12:35:14.522419 UTC</td>\n",
       "      <td>C026ED0PZEZ</td>\n",
       "      <td>&lt;@U056Q4V4FFC&gt; how about this dataset (for the...</td>\n",
       "    </tr>\n",
       "    <tr>\n",
       "      <th>3</th>\n",
       "      <td>threads</td>\n",
       "      <td>U01J0NVNE1G</td>\n",
       "      <td>mlops-questions-answered</td>\n",
       "      <td>2023-05-18 05:21:04.346819 UTC</td>\n",
       "      <td>2023-05-18 01:08:57.948139 UTC</td>\n",
       "      <td>C015J2Y9RLM</td>\n",
       "      <td>I always oppose the counterargument, why do yo...</td>\n",
       "    </tr>\n",
       "    <tr>\n",
       "      <th>4</th>\n",
       "      <td>threads</td>\n",
       "      <td>U01J0NVNE1G</td>\n",
       "      <td>mlops-questions-answered</td>\n",
       "      <td>2023-05-18 05:19:51.718379 UTC</td>\n",
       "      <td>2023-05-18 01:08:57.948139 UTC</td>\n",
       "      <td>C015J2Y9RLM</td>\n",
       "      <td>I find MLflow more convenient to use. Here are...</td>\n",
       "    </tr>\n",
       "  </tbody>\n",
       "</table>\n",
       "</div>"
      ],
      "text/plain": [
       "  __Source      User_ID              Channel_Name  \\\n",
       "0  threads  U01T78HPG3H           computer-vision   \n",
       "1  threads  U01T78HPG3H           computer-vision   \n",
       "2  threads  U04QRD69H8Q           computer-vision   \n",
       "3  threads  U01J0NVNE1G  mlops-questions-answered   \n",
       "4  threads  U01J0NVNE1G  mlops-questions-answered   \n",
       "\n",
       "                Message_Timestamp                 Thread_Timstamp  \\\n",
       "0  2023-05-18 11:36:44.001949 UTC  2023-05-18 11:30:13.159979 UTC   \n",
       "1  2023-05-18 11:30:13.159979 UTC  2023-05-18 11:30:13.159979 UTC   \n",
       "2  2023-05-18 10:56:33.313369 UTC  2023-05-17 12:35:14.522419 UTC   \n",
       "3  2023-05-18 05:21:04.346819 UTC  2023-05-18 01:08:57.948139 UTC   \n",
       "4  2023-05-18 05:19:51.718379 UTC  2023-05-18 01:08:57.948139 UTC   \n",
       "\n",
       "    Channel_ID                                             __Text  \n",
       "0  C026ED0PZEZ  Both <https://roboflow.github.io/supervision/q...  \n",
       "1  C026ED0PZEZ  Would love a package for suggesting and then i...  \n",
       "2  C026ED0PZEZ  <@U056Q4V4FFC> how about this dataset (for the...  \n",
       "3  C015J2Y9RLM  I always oppose the counterargument, why do yo...  \n",
       "4  C015J2Y9RLM  I find MLflow more convenient to use. Here are...  "
      ]
     },
     "execution_count": 22,
     "metadata": {},
     "output_type": "execute_result"
    }
   ],
   "source": [
    "import pandas as pd\n",
    "\n",
    "# Raw messages\n",
    "messages_df = pd.read_csv(\"./.content/chats/messages.csv\")\n",
    "messages_df.head()"
   ]
  },
  {
   "cell_type": "markdown",
   "metadata": {},
   "source": [
    "You'll see above that each row represents a chat message. Each message has the user id of the poster, the channel name in which it was posted, the message and thread timestamps, and the text of the message.\n",
    "\n",
    "Let's filter messages only on the mlops-questions-answered channel to create our Milo bot."
   ]
  },
  {
   "cell_type": "code",
   "execution_count": 23,
   "metadata": {
    "colab": {
     "base_uri": "https://localhost:8080/",
     "height": 337
    },
    "executionInfo": {
     "elapsed": 13,
     "status": "ok",
     "timestamp": 1686708556959,
     "user": {
      "displayName": "Rahul Parundekar",
      "userId": "17922132101761181839"
     },
     "user_tz": 420
    },
    "id": "t2DI96m7OOjK",
    "outputId": "f1e183d7-3917-4ba0-cae1-e55f6b26368c"
   },
   "outputs": [
    {
     "data": {
      "text/html": [
       "\n",
       "  <style>\n",
       "    pre {\n",
       "        white-space: pre-wrap;\n",
       "    }\n",
       "  </style>\n",
       "  "
      ],
      "text/plain": [
       "<IPython.core.display.HTML object>"
      ]
     },
     "metadata": {},
     "output_type": "display_data"
    },
    {
     "data": {
      "text/html": [
       "\n",
       "  <style>\n",
       "    pre {\n",
       "        white-space: pre-wrap;\n",
       "    }\n",
       "  </style>\n",
       "  "
      ],
      "text/plain": [
       "<IPython.core.display.HTML object>"
      ]
     },
     "metadata": {},
     "output_type": "display_data"
    },
    {
     "data": {
      "text/html": [
       "<div>\n",
       "<style scoped>\n",
       "    .dataframe tbody tr th:only-of-type {\n",
       "        vertical-align: middle;\n",
       "    }\n",
       "\n",
       "    .dataframe tbody tr th {\n",
       "        vertical-align: top;\n",
       "    }\n",
       "\n",
       "    .dataframe thead th {\n",
       "        text-align: right;\n",
       "    }\n",
       "</style>\n",
       "<table border=\"1\" class=\"dataframe\">\n",
       "  <thead>\n",
       "    <tr style=\"text-align: right;\">\n",
       "      <th></th>\n",
       "      <th>__Source</th>\n",
       "      <th>User_ID</th>\n",
       "      <th>Channel_Name</th>\n",
       "      <th>Message_Timestamp</th>\n",
       "      <th>Thread_Timstamp</th>\n",
       "      <th>Channel_ID</th>\n",
       "      <th>__Text</th>\n",
       "    </tr>\n",
       "  </thead>\n",
       "  <tbody>\n",
       "    <tr>\n",
       "      <th>3</th>\n",
       "      <td>threads</td>\n",
       "      <td>U01J0NVNE1G</td>\n",
       "      <td>mlops-questions-answered</td>\n",
       "      <td>2023-05-18 05:21:04.346819 UTC</td>\n",
       "      <td>2023-05-18 01:08:57.948139 UTC</td>\n",
       "      <td>C015J2Y9RLM</td>\n",
       "      <td>I always oppose the counterargument, why do yo...</td>\n",
       "    </tr>\n",
       "    <tr>\n",
       "      <th>4</th>\n",
       "      <td>threads</td>\n",
       "      <td>U01J0NVNE1G</td>\n",
       "      <td>mlops-questions-answered</td>\n",
       "      <td>2023-05-18 05:19:51.718379 UTC</td>\n",
       "      <td>2023-05-18 01:08:57.948139 UTC</td>\n",
       "      <td>C015J2Y9RLM</td>\n",
       "      <td>I find MLflow more convenient to use. Here are...</td>\n",
       "    </tr>\n",
       "    <tr>\n",
       "      <th>5</th>\n",
       "      <td>threads</td>\n",
       "      <td>U01CRVDS4NA</td>\n",
       "      <td>mlops-questions-answered</td>\n",
       "      <td>2023-05-18 05:14:52.514189 UTC</td>\n",
       "      <td>2023-05-16 23:22:04.332479 UTC</td>\n",
       "      <td>C015J2Y9RLM</td>\n",
       "      <td>I just built some demos with it. The developer...</td>\n",
       "    </tr>\n",
       "    <tr>\n",
       "      <th>7</th>\n",
       "      <td>messages</td>\n",
       "      <td>U01VCA57PD0</td>\n",
       "      <td>mlops-questions-answered</td>\n",
       "      <td>2023-05-18 01:08:57.948139 UTC</td>\n",
       "      <td>2023-05-18 01:08:57.948139 UTC</td>\n",
       "      <td>C015J2Y9RLM</td>\n",
       "      <td>These days I'm feeling very tempted to roll my...</td>\n",
       "    </tr>\n",
       "    <tr>\n",
       "      <th>21</th>\n",
       "      <td>messages</td>\n",
       "      <td>U015BH45ZK6</td>\n",
       "      <td>mlops-questions-answered</td>\n",
       "      <td>2023-05-17 14:56:59.775629 UTC</td>\n",
       "      <td>2023-05-17 14:56:59.775629 UTC</td>\n",
       "      <td>C015J2Y9RLM</td>\n",
       "      <td>I ran into a problem downloading files from Az...</td>\n",
       "    </tr>\n",
       "  </tbody>\n",
       "</table>\n",
       "</div>"
      ],
      "text/plain": [
       "    __Source      User_ID              Channel_Name  \\\n",
       "3    threads  U01J0NVNE1G  mlops-questions-answered   \n",
       "4    threads  U01J0NVNE1G  mlops-questions-answered   \n",
       "5    threads  U01CRVDS4NA  mlops-questions-answered   \n",
       "7   messages  U01VCA57PD0  mlops-questions-answered   \n",
       "21  messages  U015BH45ZK6  mlops-questions-answered   \n",
       "\n",
       "                 Message_Timestamp                 Thread_Timstamp  \\\n",
       "3   2023-05-18 05:21:04.346819 UTC  2023-05-18 01:08:57.948139 UTC   \n",
       "4   2023-05-18 05:19:51.718379 UTC  2023-05-18 01:08:57.948139 UTC   \n",
       "5   2023-05-18 05:14:52.514189 UTC  2023-05-16 23:22:04.332479 UTC   \n",
       "7   2023-05-18 01:08:57.948139 UTC  2023-05-18 01:08:57.948139 UTC   \n",
       "21  2023-05-17 14:56:59.775629 UTC  2023-05-17 14:56:59.775629 UTC   \n",
       "\n",
       "     Channel_ID                                             __Text  \n",
       "3   C015J2Y9RLM  I always oppose the counterargument, why do yo...  \n",
       "4   C015J2Y9RLM  I find MLflow more convenient to use. Here are...  \n",
       "5   C015J2Y9RLM  I just built some demos with it. The developer...  \n",
       "7   C015J2Y9RLM  These days I'm feeling very tempted to roll my...  \n",
       "21  C015J2Y9RLM  I ran into a problem downloading files from Az...  "
      ]
     },
     "execution_count": 23,
     "metadata": {},
     "output_type": "execute_result"
    }
   ],
   "source": [
    "# Get all data for specific channel\n",
    "df_mlops_questions_answered = messages_df[messages_df[\"Channel_Name\"] == \"mlops-questions-answered\"]\n",
    "df_mlops_questions_answered.head()"
   ]
  },
  {
   "cell_type": "code",
   "execution_count": 24,
   "metadata": {},
   "outputs": [
    {
     "data": {
      "text/html": [
       "\n",
       "  <style>\n",
       "    pre {\n",
       "        white-space: pre-wrap;\n",
       "    }\n",
       "  </style>\n",
       "  "
      ],
      "text/plain": [
       "<IPython.core.display.HTML object>"
      ]
     },
     "metadata": {},
     "output_type": "display_data"
    },
    {
     "data": {
      "text/html": [
       "\n",
       "  <style>\n",
       "    pre {\n",
       "        white-space: pre-wrap;\n",
       "    }\n",
       "  </style>\n",
       "  "
      ],
      "text/plain": [
       "<IPython.core.display.HTML object>"
      ]
     },
     "metadata": {},
     "output_type": "display_data"
    },
    {
     "name": "stdout",
     "output_type": "stream",
     "text": [
      "Number of messages: 20450\n"
     ]
    }
   ],
   "source": [
    "# Get the count of messages in that channel\n",
    "print(f\"Number of messages: {len(df_mlops_questions_answered)}\")"
   ]
  },
  {
   "cell_type": "markdown",
   "metadata": {},
   "source": [
    "Wow! That's a lot of messages. \n",
    "\n",
    "As you know from our Slack, that conversations are when you combine messages from one thread. Let's see how many threads or conversations we have. "
   ]
  },
  {
   "cell_type": "code",
   "execution_count": 25,
   "metadata": {
    "colab": {
     "base_uri": "https://localhost:8080/",
     "height": 35
    },
    "executionInfo": {
     "elapsed": 11,
     "status": "ok",
     "timestamp": 1686708556960,
     "user": {
      "displayName": "Rahul Parundekar",
      "userId": "17922132101761181839"
     },
     "user_tz": 420
    },
    "id": "NhceGvxtOUff",
    "outputId": "32ba52fe-52fe-4693-c72c-b483a4a6926f"
   },
   "outputs": [
    {
     "data": {
      "text/html": [
       "\n",
       "  <style>\n",
       "    pre {\n",
       "        white-space: pre-wrap;\n",
       "    }\n",
       "  </style>\n",
       "  "
      ],
      "text/plain": [
       "<IPython.core.display.HTML object>"
      ]
     },
     "metadata": {},
     "output_type": "display_data"
    },
    {
     "data": {
      "text/html": [
       "\n",
       "  <style>\n",
       "    pre {\n",
       "        white-space: pre-wrap;\n",
       "    }\n",
       "  </style>\n",
       "  "
      ],
      "text/plain": [
       "<IPython.core.display.HTML object>"
      ]
     },
     "metadata": {},
     "output_type": "display_data"
    },
    {
     "name": "stdout",
     "output_type": "stream",
     "text": [
      "Number of conversations: 2086\n"
     ]
    }
   ],
   "source": [
    "# Get the count of conversations\n",
    "print(f\"Number of conversations: {len(df_mlops_questions_answered.groupby(['Thread_Timstamp']))}\")"
   ]
  },
  {
   "cell_type": "markdown",
   "metadata": {},
   "source": [
    "If we were to create an embedding for each message and put it in our database, it might not have all the context of the question. So, instead we will only add each conversation into our RAG database. \n",
    "\n",
    "Let's group our messages by channel name and thread timestamp to generate complete conversations. "
   ]
  },
  {
   "cell_type": "code",
   "execution_count": 26,
   "metadata": {
    "colab": {
     "base_uri": "https://localhost:8080/",
     "height": 1000
    },
    "executionInfo": {
     "elapsed": 192,
     "status": "ok",
     "timestamp": 1686708557142,
     "user": {
      "displayName": "Rahul Parundekar",
      "userId": "17922132101761181839"
     },
     "user_tz": 420
    },
    "id": "tBg-2ZBvOZ8p",
    "outputId": "72bae821-3f37-47ee-a301-4c9bcd4433a5"
   },
   "outputs": [
    {
     "data": {
      "text/html": [
       "\n",
       "  <style>\n",
       "    pre {\n",
       "        white-space: pre-wrap;\n",
       "    }\n",
       "  </style>\n",
       "  "
      ],
      "text/plain": [
       "<IPython.core.display.HTML object>"
      ]
     },
     "metadata": {},
     "output_type": "display_data"
    },
    {
     "data": {
      "text/html": [
       "\n",
       "  <style>\n",
       "    pre {\n",
       "        white-space: pre-wrap;\n",
       "    }\n",
       "  </style>\n",
       "  "
      ],
      "text/plain": [
       "<IPython.core.display.HTML object>"
      ]
     },
     "metadata": {},
     "output_type": "display_data"
    },
    {
     "data": {
      "text/html": [
       "<h2>Channel: mlops-questions-answered / conversation 2020-06-19 20:44:41.0065 UTC </h2><hr/>\n",
       "<table>\n",
       "<tr><td>U011NTHUKEF</td><td>We use a lot of TPOT library. The main advantage is that it does hyperparameter tunning and also deals with preprocessing steps as well... downside is that it works mostly with scikit-learn algorithms. But there is a small hack you can do to make it work with many algorithms... make a new algo class that inherits both from sklearn BaseEstimators and your algo (Catboost, for example, or Pygams)</td></tr><tr><td>U015CHWG25B</td><td>Aha, I’ve heard that it’s really good!</td></tr><tr><td>U0150LZ578X</td><td>For anyone already using other Kubeflow components, Katib is relatively easy to work with <https://github.com/kubeflow/katib>\n",
       "\n",
       "It parallelizes trials across k8s pods and provides a web UI to visualize the hyperparameter space for each training history!</td></tr><tr><td>U015CHWG25B</td><td><@U013CL3GTB3> Thank you! Looks like this is an entire ML platform rather than just a hyperparameter tuning tool :thinking_face: </td></tr><tr><td>U013CL3GTB3</td><td>Polyaxon is another good one! <https://medium.com/polyaxon/polyaxon-0-0-2-23964df6ef7e|https://medium.com/polyaxon/polyaxon-0-0-2-23964df6ef7e></td></tr><tr><td>U015CHWG25B</td><td>At some point we reviewed about 15 hyperparameter tuning tools in order to choose one that answers our needs. We stopped at NNI from Microsoft (<https://github.com/microsoft/Nni|https://github.com/microsoft/Nni>). This tool is designed to run hyperparameter tuning in several parallel jobs. Unlike many other tools, it supports a lot of different algorithms of hyperparameter tuning. It has a decent UI. Plus, it's OSS from Microsoft :) Do you know other tools which answer our criteria?</td></tr><tr><td>U015CHWG25B</td><td>I want to run hyperparameter tuning on several machines in parallel and track the process in Web UI. What is the best tool for that?</td></tr></table>\n",
       "<hr/><br/>"
      ],
      "text/plain": [
       "<IPython.core.display.HTML object>"
      ]
     },
     "metadata": {},
     "output_type": "display_data"
    },
    {
     "data": {
      "text/html": [
       "<h2>Channel: mlops-questions-answered / conversation 2020-06-19 20:45:07.0067 UTC </h2><hr/>\n",
       "<table>\n",
       "<tr><td>U011NTHUKEF</td><td>AirFlow is a great tool. We use it a lot. When we work on a AWS environment, we use AWS stepfunctions which has its own Data Science SDK. Works like a charm!</td></tr><tr><td>U015CHWG25B</td><td>This is a clear usecase for pipeline tools. There are plenty of them out there, providing various features and UI capabilities. Currently, for our projects we use AirFlow. Which pipeline tools do you prefer and why?</td></tr><tr><td>U015CHWG25B</td><td>OK, I have a model of decent quality. Now I want to automate daily collecting data, retraining the model, and redeployment. How do I do that?</td></tr></table>\n",
       "<hr/><br/>"
      ],
      "text/plain": [
       "<IPython.core.display.HTML object>"
      ]
     },
     "metadata": {},
     "output_type": "display_data"
    },
    {
     "data": {
      "text/html": [
       "<h2>Channel: mlops-questions-answered / conversation 2020-06-24 00:53:14.0183 UTC </h2><hr/>\n",
       "<table>\n",
       "<tr><td>U015CHWG25B</td><td>Sure, thank you! :pray:</td></tr><tr><td>U016A3RAL5N</td><td><@U015CHWG25B> thanks for including us in your list. If you need any support lest us know</td></tr></table>\n",
       "<hr/><br/>"
      ],
      "text/plain": [
       "<IPython.core.display.HTML object>"
      ]
     },
     "metadata": {},
     "output_type": "display_data"
    },
    {
     "data": {
      "text/html": [
       "<h2>Channel: mlops-questions-answered / conversation 2020-06-24 17:51:24.026 UTC </h2><hr/>\n",
       "<table>\n",
       "<tr><td>UV92GMLF4</td><td><@U014Z58NT25> Sorry for the late reply:\n",
       "\n",
       "1. It's determined by marketing. The thing that we do it's just to highlight who is in the border. \n",
       "2. We used only numericals in that time, but OHE work fine also. \n",
       "3. At the that time, we didn't used any specific tool. I think today it's doable to do in matplotlib if you transform in 2D array those records from the cluster. </td></tr><tr><td>U012YQULW4X</td><td>you seem to treat it as a technical problem (automate the encoding). This issue points you to a potentially significant change in the input data so you want to notice and manually investigate. For detection, you can check tools for data monitoring like <https://github.com/great-expectations/great_expectations> or tensorflow data monitoring. They should be able to check feature cardinality (number of segments).\n",
       "\n",
       "Segments: Do I understand you correctly that the marketing team changed the logic for the segment variable e.g. an prior \"A\" customer might now be a \"B\" customer?\n",
       "Case A: Feature is not important. Fix encoding bug and move on.\n",
       "Case B: The feature is important but not a lot of customers migrated their segment. Fix encoding bug and move on.\n",
       "Case C:  Feature is important and the logic is very different or many people migrated. This is possibly a breaking change in the data and you need a migration plan (discard training data with old logic, not use the feature for the migration duration etc):\n",
       "\n",
       "you mention: \"everytime this happens\". That should not happen regularly. If it does, you have to stop using the feature/understand better what they do and what it means. Constantly changing data definitions make the feature dangerous to use.</td></tr><tr><td>UP3T8K9M5</td><td>maybe <@U012YQULW4X> can also help as she has some experience with monitoring and will be talking to us about it during this week’s meetup</td></tr><tr><td>U014Z58NT25</td><td>And thanks for the answers guys! It really helps even just to talk about the problem</td></tr><tr><td>U014Z58NT25</td><td><@UV92GMLF4> the clusters were determined by the marketing in the sense of \"good cluster/bad cluster\" or they even gave you a centroid for that? Could you use anything but numericals for KMeans? Essentially I know you can't, for you have to deal with distances. But someone has once told me you can sometimes work with binary/ordinal using KMeans as well.\n",
       "Also, did you have anything (besides your own code and CLI) for monitoring those jumpers? Any specific tools or dashboards</td></tr><tr><td>U014Z58NT25</td><td><@U013CL3GTB3> What happens is that as of now I have, say, 5 customer segments. On the data that I extract tomorrow, I might have 6, cause this customer segmentation is something still being created by the business, and I won't know it in advance.\n",
       "\n",
       "I can extract some meaning from these classes and put them into an ascending order (of integers, for example). And yes, I wanna use them for my recsys at the end of the day.\n",
       "\n",
       "EDIT: typo</td></tr><tr><td>UP3T8K9M5</td><td><@U0156CADGJG> might have something to say about this too</td></tr><tr><td>UV92GMLF4</td><td>Those guys I removed from the clusters and put them in another cluster (determined by marketing).\n",
       "\n",
       "Was totally primitive and I was using the KMeans, but the general idea it's that.</td></tr><tr><td>UV92GMLF4</td><td>In pink I got the \"jumpers\".</td></tr><tr><td>UV92GMLF4</td><td>Those are the clusters (just for simplification)</td></tr><tr><td>UV92GMLF4</td><td>Hey Murilo! What's up!\n",
       "\n",
       "I worked with that in a long time ago (2015) so maybe my answer it's outdated.\n",
       "\n",
       "In my case, I had fixed clusters (due to the fact those clusters where determined by Marketing); so the only thing that I monitor in this case was 1) the Centroid (to check if there's some changes in the centroid (drift) and 2) in the instances that I call \"jumpers\", i.e. records that shifted to some point of clusters boarders.\n",
       "\n",
       "Like this.</td></tr><tr><td>U013CL3GTB3</td><td>• Are these segment features known in advance? Or are they being generated on the fly? Are they different every time? Is it possible to know the values in advance? \n",
       "• can you clarify what you mean by “encoding” ? Are you given a string and want to turn it into a int or float? I’m assuming you use it as a feature for the recommender system.</td></tr><tr><td>U014Z58NT25</td><td>Hey guys! In the matter of concept drifting, I have a clustering algorithm (that is mainly a recommendation system for our business) that takes into account a categorical variable called \"Customer Segment\", that is translated in an ordinal fashion - i.e. \"better\" clients go to a higher number. Due to this new scenario we're going through, some new segments showed up and everytime this happens I have to manually determine how to encode them. Is there a way to automate this? Or even tools to identify when it happens would already help me out a lot. Thanks!</td></tr></table>\n",
       "<hr/><br/>"
      ],
      "text/plain": [
       "<IPython.core.display.HTML object>"
      ]
     },
     "metadata": {},
     "output_type": "display_data"
    },
    {
     "data": {
      "text/html": [
       "<h2>Channel: mlops-questions-answered / conversation 2020-06-27 19:23:54.0496 UTC </h2><hr/>\n",
       "<table>\n",
       "<tr><td>U016FCTSDGS</td><td>Few answers from our experience:\n",
       "1. We keep Airflow stack separate from DAG Projects. We also have a single repo per DAG project that gets auto-named and deployed in such a way that Airflow picks it up to sync in the DAG folder.  We also have a DAG that runs frequently to scan and ingest the new DAG(s) from the DAG Projects.\n",
       "2. If the question is long running tasks we spin up AWS Batch or AWS EMR depending on the need. If the question is how to interject DAG updates if a long running task is executing then no solution here other than on the next run the task(s)/DAG will get updated.\n",
       "3. Did not know about the *`PythonVirtualenvOperator`*  or would have used it. We just installed custom python packages to a temp directory and added to Python path, then deleted the folder in the last task for cleanup.\n",
       "4. Haven't used Docker Operator.\n",
       "5. Let me know if you find one!</td></tr><tr><td>U015CHWG25B</td><td>I can’t answer all your questions one by one, but I can share the basics of our approach.\n",
       "• Regarding deployment: We use Git to deploy DAGs. In our case, we have a dedicated repo for DAGs, and AirFlow installation polls this repo every minute and redeploys DAGs if necessary. Thus your DAGs are separated from your Airflow service.\n",
       "• Regarding tasks: We chose to make our own operator (as we have an ML platform with some specificity) based on DockerOperator. Containerisation of each step gives you way more freedom, especially in complex pipelines when you may need even different versions of CUDA for different steps. \n",
       "</td></tr><tr><td>U013K7876BF</td><td>thanks for the responses <@U013CL3GTB3> and <@U0158N59C8H>\n",
       "Flux sounds great, but I’m going need to work with a push model (we have some constraints in our system -  we can’t access the repo from the cloud)\n",
       "If i’m pushing the scheduler just to kick off a `KubernetesPodOperator`, Airflow feels very similar to Argo.</td></tr><tr><td>UP3T8K9M5</td><td>hmmm yeah i also would like to know this.</td></tr><tr><td>U0158N59C8H</td><td>Nope. I mean I use argo quite a bit via kubeflow pipelines. I used airflow too. Just wanting to get more opinions on the diff solutions.\n",
       "\n",
       "Esp Argo vs Tekton. As they are very closely related.</td></tr><tr><td>UP3T8K9M5</td><td>I also remember <@U0158N59C8H> was asking about Argo a while back. Were you able to get any info that could help us? </td></tr><tr><td>U013CL3GTB3</td><td>1. I would launch the task in a pod using the kubernetesPodOperator. And for pushing your dags, use gitops! You can point your airflow deployment to a git branch. This requires flux and some other stuff to be in place.\n",
       "2. Not sure what you mean by long running airflow service? Are you saying how to update a task independent of airflow itself like the web server or scheduler?  - if you're launching your tasks in pods you leave the execution logic to the docker container running in the pod and the orchestration logic to airflow. I would also recommend using the KubernetesExecutor alongside the KubernetesPodOperator. \n",
       "3. The kubernetesPodOperator also solves this problem as you have complete control over the runtime environment, resources, etc - the container has everything it needs to run the code\n",
       "4. Haven’t used the docker operator but It sounds like it’s more general than just python code. And will allow you to containerize your code which deals with the dependency issue.\n",
       "5. My company BenevolentAI Is about to publish an article about some lessons we learned using airflow so I’ll post it to the community when it’s out.\n",
       "Also me and <@UP3T8K9M5> are planning on doing a coffee session on pipelines - and airflow will be one of them. You mentioned Argo, that’s also another good option as it’s native to kubernetes which is nice and also has other benefits.</td></tr><tr><td>U013K7876BF</td><td>Hey everyone\n",
       "We’re looking for productionize some data engineering pipelines but we really want this run on Airflow and have a proper CI/CD pipeline.\n",
       "I have a couple of questions, and I’m hoping some of you may have experience and knowledge about these topics.\n",
       "1. Would you deploy the Airflow task along with the Airflow service itself? How else would you push your DAGs from source control into the dags folder of Airflow?\n",
       "2. Is there an elegant way to update the tasks separately from a long running Airflow service?\n",
       "3. Given that not all tasks have the same python dependencies, how does dependency management work? Do you install all of the dependencies with Airflow itself, or do you use `PythonVirtualenvOperator` to create a virtual env for each step in the dag?\n",
       "4. How difficult is monitoring and debugging when using `airflow.operators.docker_operator`? we can package each step in our data engineering pipeline in an .py file with a `main` and create a container. Does it have clear benefits over the `PythonVirtualenvOperator?`\n",
       "5. If there are good resource on airflow deployment strategies, I’d love to read more. I was looking at Argo <https://github.com/argoproj/argo> and if help have experience with Argo vs Airflow I’d love to hear that too.\n",
       "Thanks!</td></tr></table>\n",
       "<hr/><br/>"
      ],
      "text/plain": [
       "<IPython.core.display.HTML object>"
      ]
     },
     "metadata": {},
     "output_type": "display_data"
    }
   ],
   "source": [
    "# Iterate through conversations\n",
    "from IPython.display import HTML, display\n",
    "\n",
    "NUM_CONVERSATIONS_TO_PRINT = 5\n",
    "current_conversation = 0\n",
    "for (channel_name, thread_id), conv in df_mlops_questions_answered.groupby([\"Channel_Name\", \"Thread_Timstamp\"]):\n",
    "    html = f\"<h2>Channel: {channel_name} / conversation {thread_id} </h2><hr/>\\n<table>\\n\"\n",
    "    for index, row in conv.iterrows():\n",
    "        html += f'<tr><td>{row[\"User_ID\"]}</td><td>{row[\"__Text\"]}</td></tr>'\n",
    "    html += \"</table>\\n<hr/><br/>\"\n",
    "    display(HTML(html))\n",
    "    current_conversation += 1\n",
    "    if current_conversation >= NUM_CONVERSATIONS_TO_PRINT:\n",
    "        break"
   ]
  },
  {
   "cell_type": "markdown",
   "metadata": {
    "id": "K1W_efjwNiut"
   },
   "source": [
    "### Conversations & Embeddings\n",
    "\n",
    "We've pre-built these conversations to make it easier."
   ]
  },
  {
   "cell_type": "code",
   "execution_count": 27,
   "metadata": {
    "colab": {
     "base_uri": "https://localhost:8080/",
     "height": 206
    },
    "executionInfo": {
     "elapsed": 217,
     "status": "ok",
     "timestamp": 1686708585766,
     "user": {
      "displayName": "Rahul Parundekar",
      "userId": "17922132101761181839"
     },
     "user_tz": 420
    },
    "id": "xTGDU-5RKwLz",
    "outputId": "87898763-f5c1-42ef-9be8-1fc49c541544"
   },
   "outputs": [
    {
     "data": {
      "text/html": [
       "\n",
       "  <style>\n",
       "    pre {\n",
       "        white-space: pre-wrap;\n",
       "    }\n",
       "  </style>\n",
       "  "
      ],
      "text/plain": [
       "<IPython.core.display.HTML object>"
      ]
     },
     "metadata": {},
     "output_type": "display_data"
    },
    {
     "data": {
      "text/html": [
       "\n",
       "  <style>\n",
       "    pre {\n",
       "        white-space: pre-wrap;\n",
       "    }\n",
       "  </style>\n",
       "  "
      ],
      "text/plain": [
       "<IPython.core.display.HTML object>"
      ]
     },
     "metadata": {},
     "output_type": "display_data"
    },
    {
     "data": {
      "text/html": [
       "<div>\n",
       "<style scoped>\n",
       "    .dataframe tbody tr th:only-of-type {\n",
       "        vertical-align: middle;\n",
       "    }\n",
       "\n",
       "    .dataframe tbody tr th {\n",
       "        vertical-align: top;\n",
       "    }\n",
       "\n",
       "    .dataframe thead th {\n",
       "        text-align: right;\n",
       "    }\n",
       "</style>\n",
       "<table border=\"1\" class=\"dataframe\">\n",
       "  <thead>\n",
       "    <tr style=\"text-align: right;\">\n",
       "      <th></th>\n",
       "      <th>Unnamed: 0</th>\n",
       "      <th>channel_name</th>\n",
       "      <th>thread_id</th>\n",
       "      <th>chat_text</th>\n",
       "      <th>summary</th>\n",
       "    </tr>\n",
       "  </thead>\n",
       "  <tbody>\n",
       "    <tr>\n",
       "      <th>0</th>\n",
       "      <td>0</td>\n",
       "      <td>africa</td>\n",
       "      <td>2022-03-22 19:42:06.219769 UTC</td>\n",
       "      <td>U024WRAA0D9: Hello fellow MLOpsers in Africa :...</td>\n",
       "      <td>A user named U024WRAA0D9 welcomes fellow MLOps...</td>\n",
       "    </tr>\n",
       "    <tr>\n",
       "      <th>1</th>\n",
       "      <td>1</td>\n",
       "      <td>africa</td>\n",
       "      <td>2022-03-24 08:14:33.140029 UTC</td>\n",
       "      <td>U024WRAA0D9: What should our next steps be (fo...</td>\n",
       "      <td>The conversation is discussing the next steps ...</td>\n",
       "    </tr>\n",
       "    <tr>\n",
       "      <th>2</th>\n",
       "      <td>2</td>\n",
       "      <td>africa</td>\n",
       "      <td>2022-03-28 11:57:42.840049 UTC</td>\n",
       "      <td>U024WRAA0D9: What’s everyone’s timezone?U024WR...</td>\n",
       "      <td>The conversation is discussing everyone's time...</td>\n",
       "    </tr>\n",
       "    <tr>\n",
       "      <th>3</th>\n",
       "      <td>3</td>\n",
       "      <td>africa</td>\n",
       "      <td>2022-04-12 14:36:00.144498 UTC</td>\n",
       "      <td>U03142DQP6Z: Please can we make it later in th...</td>\n",
       "      <td>One person asks if it's possible to schedule a...</td>\n",
       "    </tr>\n",
       "    <tr>\n",
       "      <th>4</th>\n",
       "      <td>4</td>\n",
       "      <td>africa</td>\n",
       "      <td>2022-04-19 10:24:57.455849 UTC</td>\n",
       "      <td>U024WRAA0D9: Hello &lt;#C037GTG932B|africa&gt;, I on...</td>\n",
       "      <td>Someone named U024WRAA0D9 mentions in the Slac...</td>\n",
       "    </tr>\n",
       "  </tbody>\n",
       "</table>\n",
       "</div>"
      ],
      "text/plain": [
       "   Unnamed: 0 channel_name                       thread_id  \\\n",
       "0           0       africa  2022-03-22 19:42:06.219769 UTC   \n",
       "1           1       africa  2022-03-24 08:14:33.140029 UTC   \n",
       "2           2       africa  2022-03-28 11:57:42.840049 UTC   \n",
       "3           3       africa  2022-04-12 14:36:00.144498 UTC   \n",
       "4           4       africa  2022-04-19 10:24:57.455849 UTC   \n",
       "\n",
       "                                           chat_text  \\\n",
       "0  U024WRAA0D9: Hello fellow MLOpsers in Africa :...   \n",
       "1  U024WRAA0D9: What should our next steps be (fo...   \n",
       "2  U024WRAA0D9: What’s everyone’s timezone?U024WR...   \n",
       "3  U03142DQP6Z: Please can we make it later in th...   \n",
       "4  U024WRAA0D9: Hello <#C037GTG932B|africa>, I on...   \n",
       "\n",
       "                                             summary  \n",
       "0  A user named U024WRAA0D9 welcomes fellow MLOps...  \n",
       "1  The conversation is discussing the next steps ...  \n",
       "2  The conversation is discussing everyone's time...  \n",
       "3  One person asks if it's possible to schedule a...  \n",
       "4  Someone named U024WRAA0D9 mentions in the Slac...  "
      ]
     },
     "execution_count": 27,
     "metadata": {},
     "output_type": "execute_result"
    }
   ],
   "source": [
    "# Each conversation grouped into a single thread_id\n",
    "chats_df = pd.read_csv(\"./.content/chats/chats.csv\")\n",
    "chats_df.head()"
   ]
  },
  {
   "cell_type": "markdown",
   "metadata": {},
   "source": [
    "At this point, as we build our vector embeddings, we would use an embedding model. You could use an online model (e.g. form OpenAI, Cohere, etc.) or using a local model (e.g. using T5 or BERT). In this case, since we have about 9.7k conversations, we've pre-embedded these for you. "
   ]
  },
  {
   "cell_type": "code",
   "execution_count": 28,
   "metadata": {
    "colab": {
     "base_uri": "https://localhost:8080/",
     "height": 206
    },
    "executionInfo": {
     "elapsed": 2913,
     "status": "ok",
     "timestamp": 1686708588675,
     "user": {
      "displayName": "Rahul Parundekar",
      "userId": "17922132101761181839"
     },
     "user_tz": 420
    },
    "id": "wHQUy394K_5s",
    "outputId": "65583a01-ef4c-41de-fda2-0a2222837a33"
   },
   "outputs": [
    {
     "data": {
      "text/html": [
       "\n",
       "  <style>\n",
       "    pre {\n",
       "        white-space: pre-wrap;\n",
       "    }\n",
       "  </style>\n",
       "  "
      ],
      "text/plain": [
       "<IPython.core.display.HTML object>"
      ]
     },
     "metadata": {},
     "output_type": "display_data"
    },
    {
     "data": {
      "text/html": [
       "\n",
       "  <style>\n",
       "    pre {\n",
       "        white-space: pre-wrap;\n",
       "    }\n",
       "  </style>\n",
       "  "
      ],
      "text/plain": [
       "<IPython.core.display.HTML object>"
      ]
     },
     "metadata": {},
     "output_type": "display_data"
    },
    {
     "data": {
      "text/html": [
       "<div>\n",
       "<style scoped>\n",
       "    .dataframe tbody tr th:only-of-type {\n",
       "        vertical-align: middle;\n",
       "    }\n",
       "\n",
       "    .dataframe tbody tr th {\n",
       "        vertical-align: top;\n",
       "    }\n",
       "\n",
       "    .dataframe thead th {\n",
       "        text-align: right;\n",
       "    }\n",
       "</style>\n",
       "<table border=\"1\" class=\"dataframe\">\n",
       "  <thead>\n",
       "    <tr style=\"text-align: right;\">\n",
       "      <th></th>\n",
       "      <th>Unnamed: 0</th>\n",
       "      <th>thread_id</th>\n",
       "      <th>embedding</th>\n",
       "    </tr>\n",
       "  </thead>\n",
       "  <tbody>\n",
       "    <tr>\n",
       "      <th>0</th>\n",
       "      <td>0</td>\n",
       "      <td>2022-03-22 19:42:06.219769 UTC</td>\n",
       "      <td>[0.0036350293084979057, -0.01264416053891182, ...</td>\n",
       "    </tr>\n",
       "    <tr>\n",
       "      <th>1</th>\n",
       "      <td>1</td>\n",
       "      <td>2022-03-24 08:14:33.140029 UTC</td>\n",
       "      <td>[-0.002360287122428417, -0.04199115186929703, ...</td>\n",
       "    </tr>\n",
       "    <tr>\n",
       "      <th>2</th>\n",
       "      <td>2</td>\n",
       "      <td>2022-03-28 11:57:42.840049 UTC</td>\n",
       "      <td>[0.017543835565447807, 0.0032007887493819, 0.0...</td>\n",
       "    </tr>\n",
       "    <tr>\n",
       "      <th>3</th>\n",
       "      <td>3</td>\n",
       "      <td>2022-04-12 14:36:00.144498 UTC</td>\n",
       "      <td>[-0.001173610333353281, -0.014446504414081573,...</td>\n",
       "    </tr>\n",
       "    <tr>\n",
       "      <th>4</th>\n",
       "      <td>4</td>\n",
       "      <td>2022-04-19 10:24:57.455849 UTC</td>\n",
       "      <td>[-0.0025763490702956915, -0.02925489842891693,...</td>\n",
       "    </tr>\n",
       "  </tbody>\n",
       "</table>\n",
       "</div>"
      ],
      "text/plain": [
       "   Unnamed: 0                       thread_id  \\\n",
       "0           0  2022-03-22 19:42:06.219769 UTC   \n",
       "1           1  2022-03-24 08:14:33.140029 UTC   \n",
       "2           2  2022-03-28 11:57:42.840049 UTC   \n",
       "3           3  2022-04-12 14:36:00.144498 UTC   \n",
       "4           4  2022-04-19 10:24:57.455849 UTC   \n",
       "\n",
       "                                           embedding  \n",
       "0  [0.0036350293084979057, -0.01264416053891182, ...  \n",
       "1  [-0.002360287122428417, -0.04199115186929703, ...  \n",
       "2  [0.017543835565447807, 0.0032007887493819, 0.0...  \n",
       "3  [-0.001173610333353281, -0.014446504414081573,...  \n",
       "4  [-0.0025763490702956915, -0.02925489842891693,...  "
      ]
     },
     "execution_count": 28,
     "metadata": {},
     "output_type": "execute_result"
    }
   ],
   "source": [
    "# The embedding for each conversation with its thread_id (Note: not all embeddings were generated for the chat text)\n",
    "embeddings_df = pd.read_csv(\"./.content/chats/chats-embeddings-ada-002.csv\")\n",
    "embeddings_df.head()"
   ]
  },
  {
   "cell_type": "markdown",
   "metadata": {},
   "source": [
    "Let's deserialize the string embeddings into vectors. (The API you use for your embeddings should automatically return you a list of floats. this step is only because we prebuilt the embeddings)"
   ]
  },
  {
   "cell_type": "code",
   "execution_count": 29,
   "metadata": {},
   "outputs": [
    {
     "data": {
      "text/html": [
       "\n",
       "  <style>\n",
       "    pre {\n",
       "        white-space: pre-wrap;\n",
       "    }\n",
       "  </style>\n",
       "  "
      ],
      "text/plain": [
       "<IPython.core.display.HTML object>"
      ]
     },
     "metadata": {},
     "output_type": "display_data"
    },
    {
     "data": {
      "text/html": [
       "\n",
       "  <style>\n",
       "    pre {\n",
       "        white-space: pre-wrap;\n",
       "    }\n",
       "  </style>\n",
       "  "
      ],
      "text/plain": [
       "<IPython.core.display.HTML object>"
      ]
     },
     "metadata": {},
     "output_type": "display_data"
    },
    {
     "name": "stdout",
     "output_type": "stream",
     "text": [
      "Number of all conversations:  9719\n",
      "Number of conversations with embeddings:  9713\n"
     ]
    }
   ],
   "source": [
    "print(\"Number of all conversations: \", len(chats_df))\n",
    "print(\"Number of conversations with embeddings: \", len(embeddings_df))\n",
    "# NOTE: We have some missing."
   ]
  },
  {
   "cell_type": "code",
   "execution_count": 30,
   "metadata": {
    "colab": {
     "base_uri": "https://localhost:8080/",
     "height": 53
    },
    "executionInfo": {
     "elapsed": 10972,
     "status": "ok",
     "timestamp": 1686708599641,
     "user": {
      "displayName": "Rahul Parundekar",
      "userId": "17922132101761181839"
     },
     "user_tz": 420
    },
    "id": "4wAmWK4dMg_8",
    "outputId": "62eb1a22-e7df-4b9e-d10d-6dfd56ffa43f"
   },
   "outputs": [
    {
     "data": {
      "text/html": [
       "\n",
       "  <style>\n",
       "    pre {\n",
       "        white-space: pre-wrap;\n",
       "    }\n",
       "  </style>\n",
       "  "
      ],
      "text/plain": [
       "<IPython.core.display.HTML object>"
      ]
     },
     "metadata": {},
     "output_type": "display_data"
    },
    {
     "data": {
      "text/html": [
       "\n",
       "  <style>\n",
       "    pre {\n",
       "        white-space: pre-wrap;\n",
       "    }\n",
       "  </style>\n",
       "  "
      ],
      "text/plain": [
       "<IPython.core.display.HTML object>"
      ]
     },
     "metadata": {},
     "output_type": "display_data"
    },
    {
     "name": "stderr",
     "output_type": "stream",
     "text": [
      "Creating temporary chats index: 9719it [00:00, 12686.65it/s]\n",
      "Collecting chats and embeddings: 9713it [00:10, 888.55it/s] \n"
     ]
    }
   ],
   "source": [
    "# Get your embeddings data together.\n",
    "import json\n",
    "\n",
    "from tqdm import tqdm\n",
    "\n",
    "# Create a temp index of the chats\n",
    "chats_index = {}\n",
    "for _, row in tqdm(chats_df.iterrows(), desc=\"Creating temporary chats index\"):\n",
    "    chats_index[row[\"thread_id\"]] = row[\"chat_text\"]\n",
    "\n",
    "# Link the chats and embeddings together\n",
    "embeddings = []\n",
    "VECTOR_SIZE = None\n",
    "for index, row in tqdm(embeddings_df.iterrows(), desc=\"Collecting chats and embeddings\"):\n",
    "    chat_row = chats_df.iloc[index]\n",
    "    embedding = json.loads(row[\"embedding\"])\n",
    "    embeddings.append({\"thread_id\": row[\"thread_id\"], \"text\": chat_row[\"chat_text\"], \"embedding\": embedding})\n",
    "    if not VECTOR_SIZE:\n",
    "        VECTOR_SIZE = len(embedding)\n",
    "    else:\n",
    "        assert VECTOR_SIZE == len(embedding)"
   ]
  },
  {
   "cell_type": "code",
   "execution_count": 31,
   "metadata": {},
   "outputs": [
    {
     "data": {
      "text/html": [
       "\n",
       "  <style>\n",
       "    pre {\n",
       "        white-space: pre-wrap;\n",
       "    }\n",
       "  </style>\n",
       "  "
      ],
      "text/plain": [
       "<IPython.core.display.HTML object>"
      ]
     },
     "metadata": {},
     "output_type": "display_data"
    },
    {
     "data": {
      "text/html": [
       "\n",
       "  <style>\n",
       "    pre {\n",
       "        white-space: pre-wrap;\n",
       "    }\n",
       "  </style>\n",
       "  "
      ],
      "text/plain": [
       "<IPython.core.display.HTML object>"
      ]
     },
     "metadata": {},
     "output_type": "display_data"
    },
    {
     "name": "stdout",
     "output_type": "stream",
     "text": [
      "1536\n"
     ]
    }
   ],
   "source": [
    "print(VECTOR_SIZE)"
   ]
  },
  {
   "cell_type": "markdown",
   "metadata": {
    "id": "E_MIq52NMbyT"
   },
   "source": [
    "# Create your vector database\n",
    "Feel free to choose the Vector DB you want to use, but for the tutorial we will be using an open-source DB - ChromaDB"
   ]
  },
  {
   "cell_type": "code",
   "execution_count": 32,
   "metadata": {
    "colab": {
     "base_uri": "https://localhost:8080/",
     "height": 17
    },
    "executionInfo": {
     "elapsed": 20,
     "status": "ok",
     "timestamp": 1686708599642,
     "user": {
      "displayName": "Rahul Parundekar",
      "userId": "17922132101761181839"
     },
     "user_tz": 420
    },
    "id": "IKHwaN-MLICJ",
    "outputId": "bdab29a1-52fb-451b-dc11-ac28a984e706"
   },
   "outputs": [
    {
     "data": {
      "text/html": [
       "\n",
       "  <style>\n",
       "    pre {\n",
       "        white-space: pre-wrap;\n",
       "    }\n",
       "  </style>\n",
       "  "
      ],
      "text/plain": [
       "<IPython.core.display.HTML object>"
      ]
     },
     "metadata": {},
     "output_type": "display_data"
    },
    {
     "data": {
      "text/html": [
       "\n",
       "  <style>\n",
       "    pre {\n",
       "        white-space: pre-wrap;\n",
       "    }\n",
       "  </style>\n",
       "  "
      ],
      "text/plain": [
       "<IPython.core.display.HTML object>"
      ]
     },
     "metadata": {},
     "output_type": "display_data"
    }
   ],
   "source": [
    "import chromadb\n",
    "\n",
    "client = chromadb.Client()\n",
    "\n",
    "collection = client.create_collection(\"chats\")"
   ]
  },
  {
   "cell_type": "code",
   "execution_count": 33,
   "metadata": {
    "colab": {
     "base_uri": "https://localhost:8080/",
     "height": 589
    },
    "executionInfo": {
     "elapsed": 1137,
     "status": "ok",
     "timestamp": 1686708605689,
     "user": {
      "displayName": "Rahul Parundekar",
      "userId": "17922132101761181839"
     },
     "user_tz": 420
    },
    "id": "dtAsNPAEL-fV",
    "outputId": "8baab083-6e51-495c-d56b-cc4ce0046e7c"
   },
   "outputs": [
    {
     "data": {
      "text/html": [
       "\n",
       "  <style>\n",
       "    pre {\n",
       "        white-space: pre-wrap;\n",
       "    }\n",
       "  </style>\n",
       "  "
      ],
      "text/plain": [
       "<IPython.core.display.HTML object>"
      ]
     },
     "metadata": {},
     "output_type": "display_data"
    },
    {
     "data": {
      "text/html": [
       "\n",
       "  <style>\n",
       "    pre {\n",
       "        white-space: pre-wrap;\n",
       "    }\n",
       "  </style>\n",
       "  "
      ],
      "text/plain": [
       "<IPython.core.display.HTML object>"
      ]
     },
     "metadata": {},
     "output_type": "display_data"
    },
    {
     "name": "stderr",
     "output_type": "stream",
     "text": [
      "100%|██████████| 9713/9713 [00:00<00:00, 446061.85it/s]\n"
     ]
    }
   ],
   "source": [
    "embeddings_list = []\n",
    "metadata_list = []\n",
    "id_list = []\n",
    "\n",
    "for row in tqdm(embeddings):\n",
    "    metadata = {\n",
    "        \"thread_id\": row[\"thread_id\"],\n",
    "        \"text\": row[\"text\"],\n",
    "    }\n",
    "    metadata_list.append(metadata)\n",
    "    embeddings_list.append(row[\"embedding\"])\n",
    "    id_list.append(row[\"thread_id\"])\n",
    "\n",
    "collection.add(embeddings=embeddings_list, metadatas=metadata_list, ids=id_list)"
   ]
  },
  {
   "cell_type": "markdown",
   "metadata": {},
   "source": [
    "We can  check the data in the vector db and confirm the step above was successful."
   ]
  },
  {
   "cell_type": "code",
   "execution_count": 34,
   "metadata": {
    "id": "_4VCtBrfOXT_"
   },
   "outputs": [
    {
     "data": {
      "text/html": [
       "\n",
       "  <style>\n",
       "    pre {\n",
       "        white-space: pre-wrap;\n",
       "    }\n",
       "  </style>\n",
       "  "
      ],
      "text/plain": [
       "<IPython.core.display.HTML object>"
      ]
     },
     "metadata": {},
     "output_type": "display_data"
    },
    {
     "data": {
      "text/html": [
       "\n",
       "  <style>\n",
       "    pre {\n",
       "        white-space: pre-wrap;\n",
       "    }\n",
       "  </style>\n",
       "  "
      ],
      "text/plain": [
       "<IPython.core.display.HTML object>"
      ]
     },
     "metadata": {},
     "output_type": "display_data"
    },
    {
     "name": "stdout",
     "output_type": "stream",
     "text": [
      "Number of conversations in vector DB:  9713\n"
     ]
    },
    {
     "data": {
      "text/plain": [
       "{'ids': ['2022-03-22 19:42:06.219769 UTC'],\n",
       " 'embeddings': [[0.0036350293084979057,\n",
       "   -0.01264416053891182,\n",
       "   -0.005944891832768917,\n",
       "   -0.05479581281542778,\n",
       "   -0.021683333441615105,\n",
       "   0.02659679763019085,\n",
       "   0.0038186165038496256,\n",
       "   -0.0028739762492477894,\n",
       "   -0.009473106823861599,\n",
       "   -0.005203866399824619,\n",
       "   0.02371280826628208,\n",
       "   -0.010414408519864082,\n",
       "   -0.010888397693634033,\n",
       "   -0.0220571830868721,\n",
       "   0.0035882978700101376,\n",
       "   0.0038152786437422037,\n",
       "   0.013885878026485443,\n",
       "   -0.019066378474235535,\n",
       "   0.01058130618184805,\n",
       "   -0.00739022484049201,\n",
       "   -0.005317356903105974,\n",
       "   0.0026937269140034914,\n",
       "   0.0004560476227197796,\n",
       "   0.008064490742981434,\n",
       "   0.012096736580133438,\n",
       "   -0.02296510711312294,\n",
       "   -0.001086503267288208,\n",
       "   -0.022497793659567833,\n",
       "   -0.004028907511383295,\n",
       "   0.010601334273815155,\n",
       "   0.0053941295482218266,\n",
       "   -0.0005778828635811806,\n",
       "   0.003082598326727748,\n",
       "   -0.04008212313055992,\n",
       "   0.00015302421525120735,\n",
       "   -0.024006547406315804,\n",
       "   0.0047799465246498585,\n",
       "   -0.034073811024427414,\n",
       "   0.029400676488876343,\n",
       "   -0.008064490742981434,\n",
       "   0.017797958105802536,\n",
       "   0.019854135811328888,\n",
       "   0.003418062347918749,\n",
       "   -0.00394212082028389,\n",
       "   -0.012250281870365143,\n",
       "   0.023686103522777557,\n",
       "   -0.006719296332448721,\n",
       "   -0.018866101279854774,\n",
       "   0.006258659064769745,\n",
       "   0.03017508238554001,\n",
       "   0.0010648065945133567,\n",
       "   -0.009987151250243187,\n",
       "   -0.006075071636587381,\n",
       "   -0.00237995944917202,\n",
       "   -0.005310680717229843,\n",
       "   0.017891420051455498,\n",
       "   -0.018772639334201813,\n",
       "   0.010027206502854824,\n",
       "   -0.007744047325104475,\n",
       "   -0.006442246492952108,\n",
       "   0.00013654307986143976,\n",
       "   0.02176344394683838,\n",
       "   -0.005510957911610603,\n",
       "   0.013345129787921906,\n",
       "   -0.015327873639762402,\n",
       "   0.00506033468991518,\n",
       "   -0.011769616976380348,\n",
       "   0.023152031004428864,\n",
       "   0.007870889268815517,\n",
       "   -0.0011941521661356091,\n",
       "   0.014072803780436516,\n",
       "   -0.00951983779668808,\n",
       "   0.0013410219689831138,\n",
       "   -0.039868492633104324,\n",
       "   0.007804130669683218,\n",
       "   0.0016322582960128784,\n",
       "   -0.018345382064580917,\n",
       "   -0.010841666720807552,\n",
       "   -0.000999716459773481,\n",
       "   -0.011956542730331421,\n",
       "   0.014833856374025345,\n",
       "   -0.033673256635665894,\n",
       "   -0.013211612589657307,\n",
       "   0.019974302500486374,\n",
       "   0.020227985456585884,\n",
       "   0.005831401329487562,\n",
       "   -0.006582440342754126,\n",
       "   -0.004836691543459892,\n",
       "   -0.02830582857131958,\n",
       "   0.0034380899742245674,\n",
       "   -0.01145584974437952,\n",
       "   0.030842673033475876,\n",
       "   0.006969642825424671,\n",
       "   0.01531452126801014,\n",
       "   0.021576518192887306,\n",
       "   -0.007396900560706854,\n",
       "   -0.004616387188434601,\n",
       "   0.018999619409441948,\n",
       "   0.015448039397597313,\n",
       "   -0.04307292774319649,\n",
       "   -0.004219170659780502,\n",
       "   0.008324851281940937,\n",
       "   0.0040022036992013454,\n",
       "   -0.010441112332046032,\n",
       "   0.00176577630918473,\n",
       "   -0.010334298014640808,\n",
       "   -0.01823856681585312,\n",
       "   -0.0036283533554524183,\n",
       "   0.03596976399421692,\n",
       "   0.009479782544076443,\n",
       "   0.009586596861481667,\n",
       "   0.028973419219255447,\n",
       "   0.009453078731894493,\n",
       "   -0.018398789688944817,\n",
       "   -0.019880838692188263,\n",
       "   -0.026116132736206055,\n",
       "   -0.006141830701380968,\n",
       "   -0.005821387283504009,\n",
       "   -0.0029590940102934837,\n",
       "   -0.016209091991186142,\n",
       "   0.010634713806211948,\n",
       "   0.015221059322357178,\n",
       "   0.002381628379225731,\n",
       "   0.010574630461633205,\n",
       "   0.008665322326123714,\n",
       "   0.00020194606622681022,\n",
       "   0.00406562490388751,\n",
       "   -0.03738505765795708,\n",
       "   -0.008224712684750557,\n",
       "   -0.013124825432896614,\n",
       "   0.019520340487360954,\n",
       "   -0.032818738371133804,\n",
       "   0.002047833288088441,\n",
       "   0.006338770035654306,\n",
       "   -0.013358482159674168,\n",
       "   0.04352688789367676,\n",
       "   -0.01082831434905529,\n",
       "   0.0027821825351566076,\n",
       "   -0.010361001826822758,\n",
       "   -0.011529284529387951,\n",
       "   0.005280639510601759,\n",
       "   0.022644663229584694,\n",
       "   0.023245494812726974,\n",
       "   0.0008490914478898048,\n",
       "   -0.02025469020009041,\n",
       "   0.04064289852976799,\n",
       "   0.021870259195566177,\n",
       "   -0.04050938040018082,\n",
       "   0.005981609225273132,\n",
       "   -0.008117898367345333,\n",
       "   0.008565183728933334,\n",
       "   0.0063721495680511,\n",
       "   0.014513413421809673,\n",
       "   -0.008151277899742126,\n",
       "   0.03821286931633949,\n",
       "   0.010834991000592709,\n",
       "   0.03233807533979416,\n",
       "   0.02134953811764717,\n",
       "   0.005390791688114405,\n",
       "   -0.009212746284902096,\n",
       "   0.0015922029269859195,\n",
       "   -0.012784354388713837,\n",
       "   -0.009039172902703285,\n",
       "   -0.024166768416762352,\n",
       "   0.01582189090549946,\n",
       "   0.03284544125199318,\n",
       "   0.027691645547747612,\n",
       "   -0.007897593080997467,\n",
       "   -0.012083384208381176,\n",
       "   0.03661065176129341,\n",
       "   0.01201662514358759,\n",
       "   0.005974933039397001,\n",
       "   -0.01697014644742012,\n",
       "   0.030442118644714355,\n",
       "   -0.022337570786476135,\n",
       "   0.0002534757077228278,\n",
       "   -0.02886660397052765,\n",
       "   -0.011122054420411587,\n",
       "   -0.018759287893772125,\n",
       "   -0.0031143086962401867,\n",
       "   -0.009686735458672047,\n",
       "   0.031857408583164215,\n",
       "   0.0026753682177513838,\n",
       "   0.019053027033805847,\n",
       "   -0.005637800320982933,\n",
       "   -0.02377956733107567,\n",
       "   -0.006041692104190588,\n",
       "   -0.008104545995593071,\n",
       "   -0.018372084945440292,\n",
       "   -0.0055510131642222404,\n",
       "   0.014460005797445774,\n",
       "   0.038960568606853485,\n",
       "   0.022778181359171867,\n",
       "   -0.0005499275284819305,\n",
       "   -0.6233690977096558,\n",
       "   -0.011248896829783916,\n",
       "   0.055383291095495224,\n",
       "   0.006862828508019447,\n",
       "   -0.03207103908061981,\n",
       "   -0.014927319251000881,\n",
       "   -0.008511776104569435,\n",
       "   0.0033179237507283688,\n",
       "   -0.016088927164673805,\n",
       "   0.039254311472177505,\n",
       "   -0.02281823754310608,\n",
       "   0.022844940423965454,\n",
       "   0.0099203921854496,\n",
       "   -0.021683333441615105,\n",
       "   -0.003875361755490303,\n",
       "   -0.011762941256165504,\n",
       "   0.011883107014000416,\n",
       "   -0.026102781295776367,\n",
       "   -0.005614434368908405,\n",
       "   -0.015207706950604916,\n",
       "   -0.03081596828997135,\n",
       "   0.003032529028132558,\n",
       "   -0.007977704517543316,\n",
       "   -0.00460971100255847,\n",
       "   -0.0057546282187104225,\n",
       "   -0.0062252795323729515,\n",
       "   0.04630406200885773,\n",
       "   4.816559885512106e-05,\n",
       "   -0.012143467552959919,\n",
       "   0.016890034079551697,\n",
       "   -0.028920011594891548,\n",
       "   0.022444386035203934,\n",
       "   0.0255420058965683,\n",
       "   -0.04216500371694565,\n",
       "   0.041524115949869156,\n",
       "   -0.022297516465187073,\n",
       "   -0.003084267256781459,\n",
       "   0.006639185361564159,\n",
       "   -0.00688953185454011,\n",
       "   0.01722382940351963,\n",
       "   -0.009960447438061237,\n",
       "   -0.015501447021961212,\n",
       "   0.008344878442585468,\n",
       "   0.0047265393659472466,\n",
       "   -0.013445268385112286,\n",
       "   -2.7746722480515018e-05,\n",
       "   0.0053941295482218266,\n",
       "   -0.0004009714175481349,\n",
       "   -0.010401057079434395,\n",
       "   -0.0018876115791499615,\n",
       "   0.005467564798891544,\n",
       "   0.0028739762492477894,\n",
       "   0.0067994073033332825,\n",
       "   -0.01827862299978733,\n",
       "   -0.00811122264713049,\n",
       "   0.007203299552202225,\n",
       "   0.0037284919526427984,\n",
       "   0.00200777780264616,\n",
       "   0.010113992728292942,\n",
       "   0.0069028837606310844,\n",
       "   -0.0005657827714458108,\n",
       "   0.01088172197341919,\n",
       "   -0.02089557610452175,\n",
       "   0.0067393239587545395,\n",
       "   -0.057893432676792145,\n",
       "   0.015020782127976418,\n",
       "   -0.014313136227428913,\n",
       "   0.007643909193575382,\n",
       "   -0.020708652213215828,\n",
       "   0.021723387762904167,\n",
       "   0.014967374503612518,\n",
       "   -0.004068962763994932,\n",
       "   -0.034928325563669205,\n",
       "   -0.003828630317002535,\n",
       "   -0.0071165128611028194,\n",
       "   0.03057563677430153,\n",
       "   -0.0007944324752315879,\n",
       "   -0.012577401474118233,\n",
       "   -0.005103727802634239,\n",
       "   0.003675084561109543,\n",
       "   -0.0036817605141550303,\n",
       "   0.02407330647110939,\n",
       "   0.0018358733505010605,\n",
       "   -0.008371582254767418,\n",
       "   0.020334800705313683,\n",
       "   -0.018158456310629845,\n",
       "   -0.005093714222311974,\n",
       "   0.004636414814740419,\n",
       "   0.008878950960934162,\n",
       "   0.009105931967496872,\n",
       "   0.028546161949634552,\n",
       "   0.014486709609627724,\n",
       "   0.02961430512368679,\n",
       "   -0.012170171365141869,\n",
       "   0.025675524026155472,\n",
       "   0.007971027866005898,\n",
       "   -0.007370196748524904,\n",
       "   -0.00954654160887003,\n",
       "   0.026369817554950714,\n",
       "   -0.01662299782037735,\n",
       "   0.004119032062590122,\n",
       "   0.0027538100257515907,\n",
       "   0.015287818387150764,\n",
       "   -0.022791532799601555,\n",
       "   0.003985513933002949,\n",
       "   -0.01301801111549139,\n",
       "   -0.03052222914993763,\n",
       "   0.007350169122219086,\n",
       "   0.02683713100850582,\n",
       "   -0.02598261460661888,\n",
       "   -0.01417961809784174,\n",
       "   -0.007343493402004242,\n",
       "   -0.006098437588661909,\n",
       "   -0.006211927626281977,\n",
       "   0.007069781422615051,\n",
       "   -0.03001485951244831,\n",
       "   0.005337384529411793,\n",
       "   0.012423855252563953,\n",
       "   0.012777678668498993,\n",
       "   -0.025515301153063774,\n",
       "   0.007924296893179417,\n",
       "   0.004492882639169693,\n",
       "   0.0070030223578214645,\n",
       "   -0.028920011594891548,\n",
       "   0.010334298014640808,\n",
       "   -0.00036821779212914407,\n",
       "   -0.00729008624330163,\n",
       "   -0.019520340487360954,\n",
       "   -0.027531424537301064,\n",
       "   0.03006826713681221,\n",
       "   -0.01893286034464836,\n",
       "   -0.027771756052970886,\n",
       "   0.016035519540309906,\n",
       "   -0.007817482575774193,\n",
       "   0.004696497693657875,\n",
       "   -0.003798588877543807,\n",
       "   0.029934749007225037,\n",
       "   0.004132383968681097,\n",
       "   -0.008798840455710888,\n",
       "   0.005934877786785364,\n",
       "   -0.030896078795194626,\n",
       "   0.0024400425609201193,\n",
       "   0.001829197397455573,\n",
       "   -0.007323465775698423,\n",
       "   0.005547675304114819,\n",
       "   -0.03751857578754425,\n",
       "   0.00881886761635542,\n",
       "   0.008598563261330128,\n",
       "   -0.015354577451944351,\n",
       "   -0.015060837380588055,\n",
       "   0.023913085460662842,\n",
       "   0.004679807927459478,\n",
       "   -0.007810806389898062,\n",
       "   0.01622244529426098,\n",
       "   -0.0019109772983938456,\n",
       "   -0.0005549344350583851,\n",
       "   -0.0007280907011590898,\n",
       "   -0.011288952082395554,\n",
       "   -0.016903387382626534,\n",
       "   -0.029000122100114822,\n",
       "   0.004122369922697544,\n",
       "   0.0011924832360818982,\n",
       "   -0.038106054067611694,\n",
       "   3.690001176437363e-05,\n",
       "   0.004055611323565245,\n",
       "   -0.0008803847013041377,\n",
       "   -0.011622747406363487,\n",
       "   0.0164627768099308,\n",
       "   -0.013832471333444118,\n",
       "   -0.021135909482836723,\n",
       "   -0.006191899999976158,\n",
       "   -0.0077841030433773994,\n",
       "   0.012457234784960747,\n",
       "   0.004569655749946833,\n",
       "   0.012697567231953144,\n",
       "   -0.0037051262333989143,\n",
       "   -0.012677540071308613,\n",
       "   -0.011449174024164677,\n",
       "   -0.007477011531591415,\n",
       "   -0.014767097309231758,\n",
       "   0.012470587156713009,\n",
       "   0.010935129597783089,\n",
       "   -0.003675084561109543,\n",
       "   0.0005620275624096394,\n",
       "   0.031804002821445465,\n",
       "   -0.005717910826206207,\n",
       "   0.013351806439459324,\n",
       "   0.037545278668403625,\n",
       "   -0.015127596445381641,\n",
       "   0.02120266854763031,\n",
       "   -0.013939285650849342,\n",
       "   0.023258846253156662,\n",
       "   -0.0007038905168883502,\n",
       "   0.01045446377247572,\n",
       "   -0.011349035426974297,\n",
       "   0.006776041816920042,\n",
       "   -0.005821387283504009,\n",
       "   -0.011749589815735817,\n",
       "   0.009379643946886063,\n",
       "   0.012470587156713009,\n",
       "   0.010801611468195915,\n",
       "   -0.007076457142829895,\n",
       "   0.041924670338630676,\n",
       "   0.0010080613428726792,\n",
       "   0.017811309546232224,\n",
       "   -0.01842549256980419,\n",
       "   0.0017323968932032585,\n",
       "   -0.037304945290088654,\n",
       "   0.02932056598365307,\n",
       "   0.026129484176635742,\n",
       "   0.001067309989593923,\n",
       "   -0.04080311954021454,\n",
       "   0.01128227636218071,\n",
       "   0.0038319684099406004,\n",
       "   0.0011315655428916216,\n",
       "   0.03426073491573334,\n",
       "   -0.019667210057377815,\n",
       "   -0.00909257959574461,\n",
       "   -0.024954525753855705,\n",
       "   0.010334298014640808,\n",
       "   0.0006054209661670029,\n",
       "   0.01435319148004055,\n",
       "   -0.012577401474118233,\n",
       "   -0.003274530405178666,\n",
       "   -0.007744047325104475,\n",
       "   0.023806270211935043,\n",
       "   0.02487441524863243,\n",
       "   0.023445772007107735,\n",
       "   0.01713036745786667,\n",
       "   -0.02819901518523693,\n",
       "   -0.02114926092326641,\n",
       "   0.006502329371869564,\n",
       "   0.011996597982943058,\n",
       "   0.021483056247234344,\n",
       "   0.02608942985534668,\n",
       "   -0.03762539103627205,\n",
       "   0.026356466114521027,\n",
       "   0.0030542255844920874,\n",
       "   0.01647612825036049,\n",
       "   -0.006338770035654306,\n",
       "   0.01958709955215454,\n",
       "   0.022150646895170212,\n",
       "   0.03877364471554756,\n",
       "   -0.0009362954297102988,\n",
       "   0.0094196991994977,\n",
       "   0.004005542024970055,\n",
       "   -0.017918122932314873,\n",
       "   0.004269239958375692,\n",
       "   0.00195770850405097,\n",
       "   0.029854638502001762,\n",
       "   -0.014660282991826534,\n",
       "   0.008812191896140575,\n",
       "   -0.01672981306910515,\n",
       "   0.00156800274271518,\n",
       "   0.0075704739429056644,\n",
       "   -0.008905654773116112,\n",
       "   -0.026409871876239777,\n",
       "   0.012383799999952316,\n",
       "   0.033005665987730026,\n",
       "   0.02739790640771389,\n",
       "   -0.0011349035194143653,\n",
       "   0.01934676617383957,\n",
       "   0.009640003554522991,\n",
       "   -0.002326552290469408,\n",
       "   -0.007563798222690821,\n",
       "   -0.006535708904266357,\n",
       "   -0.01838543638586998,\n",
       "   -0.009586596861481667,\n",
       "   0.024567322805523872,\n",
       "   -0.01365222129970789,\n",
       "   -0.011843051761388779,\n",
       "   -0.027371201664209366,\n",
       "   0.004763256758451462,\n",
       "   -0.008478396572172642,\n",
       "   -0.013712304644286633,\n",
       "   -0.0023215452674776316,\n",
       "   -0.009599948301911354,\n",
       "   0.010040557943284512,\n",
       "   0.012103412300348282,\n",
       "   0.015581557527184486,\n",
       "   -0.013138176873326302,\n",
       "   -0.02623629942536354,\n",
       "   0.00790426880121231,\n",
       "   0.020775409415364265,\n",
       "   -0.017597680911421776,\n",
       "   -0.011175462044775486,\n",
       "   -0.021736741065979004,\n",
       "   0.007416928187012672,\n",
       "   -0.01980072818696499,\n",
       "   -0.006976318545639515,\n",
       "   0.012477262876927853,\n",
       "   0.01974732056260109,\n",
       "   0.0034814835526049137,\n",
       "   -0.002074536867439747,\n",
       "   -0.017504217103123665,\n",
       "   0.010073937475681305,\n",
       "   0.02972112037241459,\n",
       "   0.00019474861619528383,\n",
       "   0.019146490842103958,\n",
       "   0.006539047230035067,\n",
       "   0.009553217329084873,\n",
       "   0.026703612878918648,\n",
       "   -0.016249148175120354,\n",
       "   -0.009206070564687252,\n",
       "   0.0037818991113454103,\n",
       "   0.004135721828788519,\n",
       "   0.014540117233991623,\n",
       "   -0.019253304228186607,\n",
       "   -0.0016113960882648826,\n",
       "   -0.012503966689109802,\n",
       "   -0.010347649455070496,\n",
       "   -0.006165196653455496,\n",
       "   -0.03126993030309677,\n",
       "   0.006292038597166538,\n",
       "   -0.005290653090924025,\n",
       "   -0.011676154099404812,\n",
       "   -0.00835823081433773,\n",
       "   -0.009559893049299717,\n",
       "   0.0395747534930706,\n",
       "   0.00486005749553442,\n",
       "   -0.017063608393073082,\n",
       "   -0.023352308198809624,\n",
       "   -0.010394381359219551,\n",
       "   -0.006729310378432274,\n",
       "   0.093302421271801,\n",
       "   0.002226413693279028,\n",
       "   0.016342610120773315,\n",
       "   0.021082501858472824,\n",
       "   -0.00419246731325984,\n",
       "   0.001362718758173287,\n",
       "   -0.010140696540474892,\n",
       "   -0.04694494977593422,\n",
       "   0.019373470917344093,\n",
       "   -0.009800225496292114,\n",
       "   -0.03369995951652527,\n",
       "   0.018745936453342438,\n",
       "   0.0036517190746963024,\n",
       "   -0.002378290519118309,\n",
       "   0.022537847980856895,\n",
       "   0.010134020820260048,\n",
       "   0.012070032767951488,\n",
       "   -0.002428359817713499,\n",
       "   0.01980072818696499,\n",
       "   0.01742410659790039,\n",
       "   0.027718350291252136,\n",
       "   0.03912079334259033,\n",
       "   0.006428894586861134,\n",
       "   0.03898727521300316,\n",
       "   0.018772639334201813,\n",
       "   0.03682428225874901,\n",
       "   0.013398537412285805,\n",
       "   0.00798438023775816,\n",
       "   -0.020962335169315338,\n",
       "   -0.02819901518523693,\n",
       "   0.0022314204834401608,\n",
       "   0.015087541192770004,\n",
       "   0.009980475530028343,\n",
       "   0.003945458680391312,\n",
       "   0.0029106936417520046,\n",
       "   0.028572864830493927,\n",
       "   -0.013712304644286633,\n",
       "   0.03944123536348343,\n",
       "   0.013398537412285805,\n",
       "   -0.01587529666721821,\n",
       "   -0.009105931967496872,\n",
       "   0.03431414067745209,\n",
       "   -0.010294242762029171,\n",
       "   -0.01460687629878521,\n",
       "   0.02418012171983719,\n",
       "   -0.020388208329677582,\n",
       "   -0.022070536389946938,\n",
       "   0.002827245043590665,\n",
       "   0.0064889779314398766,\n",
       "   -0.004129046108573675,\n",
       "   0.060617201030254364,\n",
       "   -0.008177980780601501,\n",
       "   -0.006602467969059944,\n",
       "   0.0024517253041267395,\n",
       "   -0.001114875776693225,\n",
       "   0.012210226617753506,\n",
       "   -0.008778812363743782,\n",
       "   -0.013305074535310268,\n",
       "   -0.0008611914818175137,\n",
       "   -0.015621612779796124,\n",
       "   -0.04750572517514229,\n",
       "   -0.01969391480088234,\n",
       "   0.0012776009971275926,\n",
       "   -0.00629537645727396,\n",
       "   0.007864213548600674,\n",
       "   -0.026022670790553093,\n",
       "   -0.03615669161081314,\n",
       "   -0.004589683376252651,\n",
       "   -0.03223126009106636,\n",
       "   -0.008718729019165039,\n",
       "   -0.03177729994058609,\n",
       "   -0.03997530788183212,\n",
       "   -0.032818738371133804,\n",
       "   0.008605238981544971,\n",
       "   0.005984947085380554,\n",
       "   -0.009226097725331783,\n",
       "   0.0011006895219907165,\n",
       "   -0.0027237683534622192,\n",
       "   -0.010661417618393898,\n",
       "   0.00931956060230732,\n",
       "   -0.01068144477903843,\n",
       "   0.00542750908061862,\n",
       "   0.008772136643528938,\n",
       "   -0.017397403717041016,\n",
       "   0.006665889173746109,\n",
       "   -0.004175777547061443,\n",
       "   0.0029323904309421778,\n",
       "   0.0028005412314087152,\n",
       "   -0.003541566664353013,\n",
       "   -0.005611096508800983,\n",
       "   0.02020128257572651,\n",
       "   -0.01239047572016716,\n",
       "   0.008238064125180244,\n",
       "   -0.008591887541115284,\n",
       "   0.03559591621160507,\n",
       "   0.004793298430740833,\n",
       "   -0.01397934090346098,\n",
       "   0.011362386867403984,\n",
       "   -0.003671746701002121,\n",
       "   0.004916802514344454,\n",
       "   -0.014299784786999226,\n",
       "   -0.03420732542872429,\n",
       "   -0.044808659702539444,\n",
       "   -0.001318490831181407,\n",
       "   0.013391861692070961,\n",
       "   0.01458017248660326,\n",
       "   0.006025002337992191,\n",
       "   0.0016856655711308122,\n",
       "   -0.04809320718050003,\n",
       "   -0.008304823189973831,\n",
       "   0.013739008456468582,\n",
       "   -0.007410252466797829,\n",
       "   0.028332533314824104,\n",
       "   -0.016195740550756454,\n",
       "   -0.0069963461719453335,\n",
       "   0.02507469244301319,\n",
       "   0.04750572517514229,\n",
       "   0.03831968456506729,\n",
       "   -0.007149892393499613,\n",
       "   -0.026583446189761162,\n",
       "   -0.010801611468195915,\n",
       "   -0.02886660397052765,\n",
       "   0.024901118129491806,\n",
       "   -0.0029023487586528063,\n",
       "   0.005073686130344868,\n",
       "   0.04678472876548767,\n",
       "   0.027184277772903442,\n",
       "   -0.0017691142857074738,\n",
       "   0.0026019331999123096,\n",
       "   -0.02498122863471508,\n",
       "   -0.006435570772737265,\n",
       "   0.021937018260359764,\n",
       "   -0.014940670691430569,\n",
       "   -0.024794304743409157,\n",
       "   -0.02699735201895237,\n",
       "   0.010788259096443653,\n",
       "   0.00176577630918473,\n",
       "   0.014767097309231758,\n",
       "   -0.010921777226030827,\n",
       "   -0.005621110554784536,\n",
       "   -0.024740897119045258,\n",
       "   -0.002178013324737549,\n",
       "   -0.006792731583118439,\n",
       "   -0.0310830045491457,\n",
       "   -0.045556362718343735,\n",
       "   -0.03562261909246445,\n",
       "   -0.010848342441022396,\n",
       "   0.012377124279737473,\n",
       "   -0.02000100538134575,\n",
       "   0.003621677402406931,\n",
       "   -0.0038720236625522375,\n",
       "   0.01498072687536478,\n",
       "   -0.020374856889247894,\n",
       "   -0.021282779052853584,\n",
       "   -0.016209091991186142,\n",
       "   -0.026369817554950714,\n",
       "   -0.026116132736206055,\n",
       "   -0.009513162076473236,\n",
       "   0.03773220255970955,\n",
       "   0.028332533314824104,\n",
       "   0.030735857784748077,\n",
       "   0.0040522729977965355,\n",
       "   0.028385939076542854,\n",
       "   0.0036517190746963024,\n",
       "   0.007223327178508043,\n",
       "   -0.015127596445381641,\n",
       "   -0.01452676486223936,\n",
       "   -0.007143216207623482,\n",
       "   -0.007997731678187847,\n",
       "   0.006756013724952936,\n",
       "   0.011769616976380348,\n",
       "   0.0075170667842030525,\n",
       "   0.0075170667842030525,\n",
       "   -0.01375235989689827,\n",
       "   0.008491748943924904,\n",
       "   0.0077240196987986565,\n",
       "   -0.007310113869607449,\n",
       "   0.00706310523673892,\n",
       "   -0.012777678668498993,\n",
       "   -0.019760673865675926,\n",
       "   -0.02825242094695568,\n",
       "   -0.005270625464618206,\n",
       "   -0.0024750910233706236,\n",
       "   -0.008211360312998295,\n",
       "   -0.022350924089550972,\n",
       "   -0.02966771274805069,\n",
       "   0.02779846079647541,\n",
       "   -0.0006696765194647014,\n",
       "   0.015848593786358833,\n",
       "   0.003544904524460435,\n",
       "   0.013939285650849342,\n",
       "   0.01191648654639721,\n",
       "   0.029480786994099617,\n",
       "   0.01460687629878521,\n",
       "   -0.005414157174527645,\n",
       "   -0.018171807751059532,\n",
       "   -0.015634965151548386,\n",
       "   -0.0067994073033332825,\n",
       "   0.03012167476117611,\n",
       "   0.0019026324152946472,\n",
       "   0.018612418323755264,\n",
       "   0.020214634016156197,\n",
       "   -0.03126993030309677,\n",
       "   0.009733466431498528,\n",
       "   -0.008952385745942593,\n",
       "   0.005090375896543264,\n",
       "   -0.003925431054085493,\n",
       "   0.0014002706157043576,\n",
       "   -0.003925431054085493,\n",
       "   -0.03244489058852196,\n",
       "   -0.010287567041814327,\n",
       "   -0.03239148110151291,\n",
       "   -0.010447788052260876,\n",
       "   -0.019146490842103958,\n",
       "   0.012330393306910992,\n",
       "   0.012236930429935455,\n",
       "   -0.011923163197934628,\n",
       "   0.01075487956404686,\n",
       "   -0.00046439250581897795,\n",
       "   -0.007370196748524904,\n",
       "   0.013698953203856945,\n",
       "   0.020481670275330544,\n",
       "   0.030148377642035484,\n",
       "   0.004639752674847841,\n",
       "   0.021723387762904167,\n",
       "   0.018145104870200157,\n",
       "   0.04224511608481407,\n",
       "   0.0035882978700101376,\n",
       "   0.017811309546232224,\n",
       "   -0.0014378225896507502,\n",
       "   0.0043693785555660725,\n",
       "   0.022644663229584694,\n",
       "   0.009499809704720974,\n",
       "   -0.03677087277173996,\n",
       "   -0.013819118961691856,\n",
       "   0.014019396156072617,\n",
       "   -0.003032529028132558,\n",
       "   -0.008418314158916473,\n",
       "   -0.01944022998213768,\n",
       "   0.017797958105802536,\n",
       "   0.014967374503612518,\n",
       "   0.02074870653450489,\n",
       "   -0.017263885587453842,\n",
       "   0.018812695518136024,\n",
       "   -0.03041541390120983,\n",
       "   0.022551201283931732,\n",
       "   -0.003084267256781459,\n",
       "   -0.0018592389533296227,\n",
       "   -0.03559591621160507,\n",
       "   0.014860560186207294,\n",
       "   -0.011075323447585106,\n",
       "   0.02665020525455475,\n",
       "   0.003598311683163047,\n",
       "   0.031163115054368973,\n",
       "   -0.00027558961301110685,\n",
       "   -0.0019777363631874323,\n",
       "   7.479097985196859e-05,\n",
       "   0.018452195450663567,\n",
       "   -0.02703740820288658,\n",
       "   0.013338454067707062,\n",
       "   0.01676986925303936,\n",
       "   0.018291974440217018,\n",
       "   -0.015982111915946007,\n",
       "   0.037251539528369904,\n",
       "   0.015367928892374039,\n",
       "   -0.0042659020982682705,\n",
       "   -0.019373470917344093,\n",
       "   -0.008137925527989864,\n",
       "   0.003339620539918542,\n",
       "   0.03391358628869057,\n",
       "   -0.0019476946908980608,\n",
       "   0.014913967810571194,\n",
       "   -0.010240835137665272,\n",
       "   0.012670864351093769,\n",
       "   0.01375235989689827,\n",
       "   -0.010801611468195915,\n",
       "   -0.016529535874724388,\n",
       "   -0.024140065535902977,\n",
       "   -0.024206824600696564,\n",
       "   -0.017691142857074738,\n",
       "   0.03388688340783119,\n",
       "   -0.0057646422646939754,\n",
       "   -0.007610529661178589,\n",
       "   -0.023899732157588005,\n",
       "   -0.01135571114718914,\n",
       "   0.01566166803240776,\n",
       "   0.006442246492952108,\n",
       "   -0.010641389526426792,\n",
       "   0.03450106829404831,\n",
       "   -0.01311814971268177,\n",
       "   -0.02705075964331627,\n",
       "   -0.014273080974817276,\n",
       "   -0.00729008624330163,\n",
       "   -0.004245874471962452,\n",
       "   0.0005069514154456556,\n",
       "   -0.0053507364355027676,\n",
       "   0.015060837380588055,\n",
       "   0.02271142229437828,\n",
       "   -0.0032010956201702356,\n",
       "   -0.015648316591978073,\n",
       "   -0.0015947063220664859,\n",
       "   0.015568206086754799,\n",
       "   -0.022898348048329353,\n",
       "   0.010307594202458858,\n",
       "   -0.0049334922805428505,\n",
       "   -0.010047233663499355,\n",
       "   0.0188393983989954,\n",
       "   -0.01082831434905529,\n",
       "   -0.004529600031673908,\n",
       "   -0.005771317984908819,\n",
       "   0.01331842690706253,\n",
       "   -0.0029023487586528063,\n",
       "   -0.0052405837923288345,\n",
       "   0.010013854131102562,\n",
       "   0.03495502844452858,\n",
       "   0.030949486419558525,\n",
       "   0.026356466114521027,\n",
       "   -0.012584077194333076,\n",
       "   -0.010841666720807552,\n",
       "   0.019920894876122475,\n",
       "   -0.03364655002951622,\n",
       "   0.011021915823221207,\n",
       "   0.0012884492753073573,\n",
       "   0.018866101279854774,\n",
       "   0.014032748527824879,\n",
       "   0.009573245421051979,\n",
       "   0.00793097261339426,\n",
       "   -0.0006271176389418542,\n",
       "   -0.043339964002370834,\n",
       "   -0.027277739718556404,\n",
       "   0.02251114509999752,\n",
       "   0.003751857439056039,\n",
       "   -0.024487212300300598,\n",
       "   -0.019226601347327232,\n",
       "   -0.026623500511050224,\n",
       "   -0.014139562845230103,\n",
       "   -0.025341728702187538,\n",
       "   0.010100641287863255,\n",
       "   0.0012508973013609648,\n",
       "   -0.011602719314396381,\n",
       "   0.004396082367748022,\n",
       "   0.02547524683177471,\n",
       "   0.0013660566182807088,\n",
       "   0.011903135105967522,\n",
       "   -0.008618590421974659,\n",
       "   -0.0019794052932411432,\n",
       "   -0.011676154099404812,\n",
       "   -0.012877817265689373,\n",
       "   -0.022738125175237656,\n",
       "   0.003735167672857642,\n",
       "   -0.020575134083628654,\n",
       "   0.0331391841173172,\n",
       "   -0.01112873014062643,\n",
       "   -0.005417495500296354,\n",
       "   -0.019707266241312027,\n",
       "   -0.008605238981544971,\n",
       "   -0.03404710441827774,\n",
       "   -0.006265335250645876,\n",
       "   -0.007703992072492838,\n",
       "   0.02265801467001438,\n",
       "   0.025622116401791573,\n",
       "   0.014273080974817276,\n",
       "   -0.02014787495136261,\n",
       "   0.01843884401023388,\n",
       "   -0.01088172197341919,\n",
       "   -0.0027170926332473755,\n",
       "   -0.010167400352656841,\n",
       "   -0.019453581422567368,\n",
       "   -0.0011457519140094519,\n",
       "   -0.03319258987903595,\n",
       "   0.02401989884674549,\n",
       "   -0.010527899488806725,\n",
       "   -0.040269047021865845,\n",
       "   -0.004943506326526403,\n",
       "   0.030682450160384178,\n",
       "   -0.003107632976025343,\n",
       "   -0.014446654357016087,\n",
       "   0.031189819797873497,\n",
       "   -0.025248264893889427,\n",
       "   -0.018559010699391365,\n",
       "   -0.004272577818483114,\n",
       "   -0.004773270804435015,\n",
       "   0.0008553500520065427,\n",
       "   -0.0015070851659402251,\n",
       "   0.03012167476117611,\n",
       "   -0.03508854657411575,\n",
       "   0.003107632976025343,\n",
       "   0.01869252882897854,\n",
       "   0.01631590723991394,\n",
       "   0.0011081999400630593,\n",
       "   -0.014833856374025345,\n",
       "   0.018999619409441948,\n",
       "   0.006008312571793795,\n",
       "   0.022484442219138145,\n",
       "   0.0010130682494491339,\n",
       "   0.011589367873966694,\n",
       "   0.029133640229701996,\n",
       "   -0.021683333441615105,\n",
       "   0.023752862587571144,\n",
       "   -0.011021915823221207,\n",
       "   -0.011802996508777142,\n",
       "   0.01616903766989708,\n",
       "   0.023245494812726974,\n",
       "   0.015888649970293045,\n",
       "   -0.02588915266096592,\n",
       "   0.013638869859278202,\n",
       "   -0.0002705827064346522,\n",
       "   -0.016956793144345284,\n",
       "   0.02663685381412506,\n",
       "   -0.009105931967496872,\n",
       "   0.0045830076560378075,\n",
       "   -0.020962335169315338,\n",
       "   -0.004386068321764469,\n",
       "   -0.0352487675845623,\n",
       "   -0.02245773747563362,\n",
       "   -0.017036905512213707,\n",
       "   -0.019066378474235535,\n",
       "   -0.01833203062415123,\n",
       "   0.012297013774514198,\n",
       "   0.0013134839246049523,\n",
       "   -0.03001485951244831,\n",
       "   -0.0003312916960567236,\n",
       "   -0.003478145459666848,\n",
       "   -0.007797454949468374,\n",
       "   -0.00032503303373232484,\n",
       "   -0.00688953185454011,\n",
       "   0.011843051761388779,\n",
       "   -0.0031026259530335665,\n",
       "   -0.0050970520824193954,\n",
       "   -0.016956793144345284,\n",
       "   -0.007036401890218258,\n",
       "   -0.001015571760945022,\n",
       "   0.020054413005709648,\n",
       "   -0.006969642825424671,\n",
       "   -0.01092845294624567,\n",
       "   0.007710668258368969,\n",
       "   0.21875599026679993,\n",
       "   -0.008077843114733696,\n",
       "   0.023432420566678047,\n",
       "   0.014913967810571194,\n",
       "   -9.368430255562998e-06,\n",
       "   -0.0020878887735307217,\n",
       "   0.0003757281810976565,\n",
       "   0.00698967045173049,\n",
       "   0.013939285650849342,\n",
       "   0.008378257974982262,\n",
       "   -0.02069529891014099,\n",
       "   0.009633327834308147,\n",
       "   -0.0244338046759367,\n",
       "   -0.0005557689582929015,\n",
       "   -0.006148506887257099,\n",
       "   0.016489479690790176,\n",
       "   -0.03217785432934761,\n",
       "   -0.0310830045491457,\n",
       "   -0.0197873767465353,\n",
       "   -0.008218036964535713,\n",
       "   -0.0126908915117383,\n",
       "   -0.02578233741223812,\n",
       "   -0.002631974872201681,\n",
       "   -0.005841415375471115,\n",
       "   -0.011115378700196743,\n",
       "   0.008865599520504475,\n",
       "   0.011729561723768711,\n",
       "   -0.007717343978583813,\n",
       "   0.020107820630073547,\n",
       "   0.0027471340727061033,\n",
       "   -0.02200377732515335,\n",
       "   -0.030842673033475876,\n",
       "   0.006929587572813034,\n",
       "   0.021937018260359764,\n",
       "   0.002303186571225524,\n",
       "   -0.01132900733500719,\n",
       "   0.03183070570230484,\n",
       "   -0.01934676617383957,\n",
       "   0.02347247488796711,\n",
       "   -0.0012308696750551462,\n",
       "   -0.017437458038330078,\n",
       "   0.02739790640771389,\n",
       "   -0.001203331514261663,\n",
       "   -0.013431916944682598,\n",
       "   0.01903967559337616,\n",
       "   0.0038653479423373938,\n",
       "   ...]],\n",
       " 'metadatas': [{'text': \"U024WRAA0D9: Hello fellow MLOpsers in Africa :meow_party:U020H5LKBAP: Welcome, <@U024WRAA0D9>! Great idea getting us to set up a channel. :slightly_smiling_face:\\n\\nI guess we'll figure things out from here.\\n\\nExcited about this.U03142DQP6Z: I am also exited about itU032EMFKLUV: Hi <@U024WRAA0D9>\",\n",
       "   'thread_id': '2022-03-22 19:42:06.219769 UTC'}],\n",
       " 'documents': [None]}"
      ]
     },
     "execution_count": 34,
     "metadata": {},
     "output_type": "execute_result"
    }
   ],
   "source": [
    "print(\"Number of conversations in vector DB: \", collection.count())  # returns the number of items in the collection\n",
    "collection.peek(1)  # returns a list of the first n items in the collection"
   ]
  },
  {
   "cell_type": "markdown",
   "metadata": {},
   "source": [
    "Next, let's create a function for searching for the closest chats given an embedding."
   ]
  },
  {
   "cell_type": "code",
   "execution_count": 35,
   "metadata": {
    "colab": {
     "base_uri": "https://localhost:8080/",
     "height": 17
    },
    "executionInfo": {
     "elapsed": 157,
     "status": "ok",
     "timestamp": 1686709312554,
     "user": {
      "displayName": "Rahul Parundekar",
      "userId": "17922132101761181839"
     },
     "user_tz": 420
    },
    "id": "pS_lC8k6SJTQ",
    "outputId": "a5b59dc1-4da2-4556-b15b-da756dbaefaa"
   },
   "outputs": [
    {
     "data": {
      "text/html": [
       "\n",
       "  <style>\n",
       "    pre {\n",
       "        white-space: pre-wrap;\n",
       "    }\n",
       "  </style>\n",
       "  "
      ],
      "text/plain": [
       "<IPython.core.display.HTML object>"
      ]
     },
     "metadata": {},
     "output_type": "display_data"
    },
    {
     "data": {
      "text/html": [
       "\n",
       "  <style>\n",
       "    pre {\n",
       "        white-space: pre-wrap;\n",
       "    }\n",
       "  </style>\n",
       "  "
      ],
      "text/plain": [
       "<IPython.core.display.HTML object>"
      ]
     },
     "metadata": {},
     "output_type": "display_data"
    }
   ],
   "source": [
    "def search_index(embedding):\n",
    "    results = collection.query(query_embeddings=[embedding], n_results=3)\n",
    "    return [{\"thread_id\": m[\"thread_id\"], \"text\": m[\"text\"]} for m in results[\"metadatas\"][0]]"
   ]
  },
  {
   "cell_type": "markdown",
   "metadata": {},
   "source": [
    "For sanity check, test with an existing document, that that document is returned.\n"
   ]
  },
  {
   "cell_type": "code",
   "execution_count": 36,
   "metadata": {
    "colab": {
     "base_uri": "https://localhost:8080/",
     "height": 17
    },
    "executionInfo": {
     "elapsed": 376,
     "status": "ok",
     "timestamp": 1686709471504,
     "user": {
      "displayName": "Rahul Parundekar",
      "userId": "17922132101761181839"
     },
     "user_tz": 420
    },
    "id": "jI_XJYqwY0pP",
    "outputId": "3c37dbbe-e163-4143-ff8f-c53eaaf450a7"
   },
   "outputs": [
    {
     "data": {
      "text/html": [
       "\n",
       "  <style>\n",
       "    pre {\n",
       "        white-space: pre-wrap;\n",
       "    }\n",
       "  </style>\n",
       "  "
      ],
      "text/plain": [
       "<IPython.core.display.HTML object>"
      ]
     },
     "metadata": {},
     "output_type": "display_data"
    },
    {
     "data": {
      "text/html": [
       "\n",
       "  <style>\n",
       "    pre {\n",
       "        white-space: pre-wrap;\n",
       "    }\n",
       "  </style>\n",
       "  "
      ],
      "text/plain": [
       "<IPython.core.display.HTML object>"
      ]
     },
     "metadata": {},
     "output_type": "display_data"
    }
   ],
   "source": [
    "row = embeddings[2539]\n",
    "docs = search_index(row[\"embedding\"])\n",
    "assert row[\"thread_id\"] == docs[0][\"thread_id\"], \"Document does not match\""
   ]
  },
  {
   "cell_type": "markdown",
   "metadata": {
    "id": "nuiB3wZHbb2_"
   },
   "source": [
    "# Example Q&A with OpenAI\n",
    "\n",
    "Now that we have our vector database, let's create the Q&A mechanism. It'll work like this:\n",
    "\n",
    "For a question that the user asks:\n",
    "- Let's generate the embedding for that using the same embedding model as our documents (i.e. OpenAI's Ada-002)\n",
    "- Query the database to get the 3 nearest documents. \n",
    "- Since these documents would be too large for the context window of openai, we need to summarize them.\n",
    "- Finally, we generate the answer for the user."
   ]
  },
  {
   "cell_type": "code",
   "execution_count": 38,
   "metadata": {
    "colab": {
     "base_uri": "https://localhost:8080/",
     "height": 17
    },
    "executionInfo": {
     "elapsed": 163,
     "status": "ok",
     "timestamp": 1686709578912,
     "user": {
      "displayName": "Rahul Parundekar",
      "userId": "17922132101761181839"
     },
     "user_tz": 420
    },
    "id": "Ij-IEfqlbevd",
    "outputId": "c0aeb548-e594-49fe-a397-26dd15e53f4f"
   },
   "outputs": [
    {
     "data": {
      "text/html": [
       "\n",
       "  <style>\n",
       "    pre {\n",
       "        white-space: pre-wrap;\n",
       "    }\n",
       "  </style>\n",
       "  "
      ],
      "text/plain": [
       "<IPython.core.display.HTML object>"
      ]
     },
     "metadata": {},
     "output_type": "display_data"
    },
    {
     "data": {
      "text/html": [
       "\n",
       "  <style>\n",
       "    pre {\n",
       "        white-space: pre-wrap;\n",
       "    }\n",
       "  </style>\n",
       "  "
      ],
      "text/plain": [
       "<IPython.core.display.HTML object>"
      ]
     },
     "metadata": {},
     "output_type": "display_data"
    }
   ],
   "source": [
    "import os\n",
    "import openai\n",
    "\n",
    "# Set up the OpenAI API key\n",
    "assert os.getenv(\"OPENAI_API_KEY\"), \"Please save your OPENAI_API_KEY in a .env file.\"\n",
    "openai.api_key = os.getenv(\"OPENAI_API_KEY\")\n",
    "\n",
    "\n",
    "def get_embedding(text):\n",
    "    # Use the same embedding generator as what was used on the data!!!\n",
    "    response = openai.Embedding.create(model=\"text-embedding-ada-002\", input=text)\n",
    "    return response.data[0].embedding\n",
    "\n",
    "\n",
    "def summarize(chat_text):\n",
    "    # Summarize conversations since individually they are long and go over 8k limit\n",
    "    prompt = (\n",
    "        \"Summarize the following conversation on the MLOps.community slack channel. Do not use the usernames in the summary. ```\"\n",
    "        + chat_text\n",
    "        + \"```\"\n",
    "    )\n",
    "    completion = openai.ChatCompletion.create(model=\"gpt-3.5-turbo\", messages=[{\"role\": \"user\", \"content\": prompt}])\n",
    "    return completion.choices[0].message.content\n",
    "\n",
    "\n",
    "def extract_answer(chat_texts, question):\n",
    "    # Combine the summaries into a prompt and use SotA GPT-4 to answer.\n",
    "    prompt = \"Use the following summaries of conversations on the MLOps.community slack channel backtics to generate an answer for the user question.\"\n",
    "    for i, chat_text in enumerate(chat_texts):\n",
    "        print(f\"Getting summary for conversation {i+1}\")\n",
    "        prompt += f\"\\nConversation {i+1} Summary:\\n```\\n{summarize(chat_text)}```\"\n",
    "\n",
    "    if not question.endswith(\"?\"):\n",
    "        question = question + \"?\"\n",
    "    prompt += f\"\\nQuestion: {question}\"\n",
    "    print(\"Getting answer for the question.\")\n",
    "    completion = openai.ChatCompletion.create(model=\"gpt-4\", messages=[{\"role\": \"user\", \"content\": prompt}])\n",
    "    content = completion.choices[0].message.content\n",
    "    return content"
   ]
  },
  {
   "cell_type": "code",
   "execution_count": 39,
   "metadata": {
    "colab": {
     "base_uri": "https://localhost:8080/",
     "height": 17
    },
    "executionInfo": {
     "elapsed": 176,
     "status": "ok",
     "timestamp": 1686709638802,
     "user": {
      "displayName": "Rahul Parundekar",
      "userId": "17922132101761181839"
     },
     "user_tz": 420
    },
    "id": "4FTUR7aSbiR4",
    "outputId": "73415edf-1706-4fdf-8af4-7b67a922cb93"
   },
   "outputs": [
    {
     "data": {
      "text/html": [
       "\n",
       "  <style>\n",
       "    pre {\n",
       "        white-space: pre-wrap;\n",
       "    }\n",
       "  </style>\n",
       "  "
      ],
      "text/plain": [
       "<IPython.core.display.HTML object>"
      ]
     },
     "metadata": {},
     "output_type": "display_data"
    },
    {
     "data": {
      "text/html": [
       "\n",
       "  <style>\n",
       "    pre {\n",
       "        white-space: pre-wrap;\n",
       "    }\n",
       "  </style>\n",
       "  "
      ],
      "text/plain": [
       "<IPython.core.display.HTML object>"
      ]
     },
     "metadata": {},
     "output_type": "display_data"
    }
   ],
   "source": [
    "import time\n",
    "\n",
    "\n",
    "def get_answer(question):\n",
    "    tic = time.perf_counter()\n",
    "    # Get answer to the question by finding the three conversations that are nearest\n",
    "    # to the question and then using them to generate the answer.\n",
    "    print(\"Searching documents nearest to the question.\")\n",
    "    search_vector = get_embedding(question)\n",
    "    docs = search_index(search_vector)\n",
    "    # Take the top three answers, and use ChatGPT to form the answer to give the user.\n",
    "    chat_texts = []\n",
    "    for doc in docs:\n",
    "        chat_text = chats_index[doc[\"thread_id\"]]\n",
    "        chat_texts.append(chat_text)\n",
    "    if len(chat_texts) > 3:\n",
    "        chat_texts[:3]\n",
    "    answer = extract_answer(chat_texts, question)\n",
    "    toc = time.perf_counter()\n",
    "    print(f\"Answer took {toc - tic:0.4f} seconds\")\n",
    "    return answer"
   ]
  },
  {
   "cell_type": "markdown",
   "metadata": {},
   "source": [
    "We can now try these out."
   ]
  },
  {
   "cell_type": "code",
   "execution_count": 40,
   "metadata": {
    "colab": {
     "base_uri": "https://localhost:8080/",
     "height": 231
    },
    "executionInfo": {
     "elapsed": 32320,
     "status": "ok",
     "timestamp": 1686709686394,
     "user": {
      "displayName": "Rahul Parundekar",
      "userId": "17922132101761181839"
     },
     "user_tz": 420
    },
    "id": "bZDd3d5lcSSz",
    "outputId": "cff3b60f-37ea-401e-81e1-a090664c512a"
   },
   "outputs": [
    {
     "data": {
      "text/html": [
       "\n",
       "  <style>\n",
       "    pre {\n",
       "        white-space: pre-wrap;\n",
       "    }\n",
       "  </style>\n",
       "  "
      ],
      "text/plain": [
       "<IPython.core.display.HTML object>"
      ]
     },
     "metadata": {},
     "output_type": "display_data"
    },
    {
     "data": {
      "text/html": [
       "\n",
       "  <style>\n",
       "    pre {\n",
       "        white-space: pre-wrap;\n",
       "    }\n",
       "  </style>\n",
       "  "
      ],
      "text/plain": [
       "<IPython.core.display.HTML object>"
      ]
     },
     "metadata": {},
     "output_type": "display_data"
    },
    {
     "name": "stdout",
     "output_type": "stream",
     "text": [
      "Searching documents nearest to the question.\n",
      "Getting summary for conversation 1\n",
      "Getting summary for conversation 2\n",
      "Getting summary for conversation 3\n",
      "Getting answer for the question.\n",
      "Answer took 34.8019 seconds\n",
      "\n",
      "\n",
      "Question: What are some good ways to deploy models on Kubernetes?\n",
      "Answer: Some good ways to deploy models on Kubernetes include using KServe, TensorFlow Serving, TorchServe, ONNXRuntime, and Seldon. All these options can handle large-size machine learning models and have their unique benefits.\n",
      "\n",
      "KServe offers native support for serving TensorFlow, XGBoost, and PyTorch models on Kubernetes, while TensorFlow Serving provides flexibility by supporting multiple models and model versions. TorchServe is a PyTorch model serving solution that supports autoscaling and model versioning.\n",
      "\n",
      "ONNX Runtime is another excellent choice that is compatible with most frameworks and can provide a significant speedup. Seldon is a Kubernetes-native option that supports various machine learning frameworks and works well for complex deployments.\n",
      "  \n",
      "For scalability, it is suggested that the API/web service is separated from the model inference service. In case of any concerns about the size of the model in memory, MLflow is recommended as it is easy for data scientists to use.\n",
      "\n",
      "Another way to handle autoscaling and low latency is through NVIDIA Triton, which supports major ML frameworks like TensorFlow, PyTorch, and ONNX while also providing auto-batching capabilities and multi-tenancy support. For multi-model deployments, it's possible to split the models across different instances where each instance handles models in its GPU RAM.\n",
      "\n",
      "Other deployment strategies mentioned in the conversations include using lambda functions for scalability and speed, iguazio's function as a service offering, or data orchestration products like pachyderm for pre/post processing pipelines. Options like Algorithmia.com even allow direct function writing for preprocessing and post-processing.\n"
     ]
    }
   ],
   "source": [
    "question = \"What are some good ways to deploy models on Kubernetes?\"\n",
    "answer = get_answer(question)\n",
    "print(f\"\\n\\nQuestion: {question}\\nAnswer: {answer}\")"
   ]
  },
  {
   "cell_type": "code",
   "execution_count": 41,
   "metadata": {
    "colab": {
     "base_uri": "https://localhost:8080/",
     "height": 624
    },
    "executionInfo": {
     "elapsed": 58520,
     "status": "ok",
     "timestamp": 1686709746226,
     "user": {
      "displayName": "Rahul Parundekar",
      "userId": "17922132101761181839"
     },
     "user_tz": 420
    },
    "id": "Ub0bI4roeUHK",
    "outputId": "4f01f8e7-d316-428c-ed53-041c47a67769"
   },
   "outputs": [
    {
     "data": {
      "text/html": [
       "\n",
       "  <style>\n",
       "    pre {\n",
       "        white-space: pre-wrap;\n",
       "    }\n",
       "  </style>\n",
       "  "
      ],
      "text/plain": [
       "<IPython.core.display.HTML object>"
      ]
     },
     "metadata": {},
     "output_type": "display_data"
    },
    {
     "data": {
      "text/html": [
       "\n",
       "  <style>\n",
       "    pre {\n",
       "        white-space: pre-wrap;\n",
       "    }\n",
       "  </style>\n",
       "  "
      ],
      "text/plain": [
       "<IPython.core.display.HTML object>"
      ]
     },
     "metadata": {},
     "output_type": "display_data"
    },
    {
     "name": "stdout",
     "output_type": "stream",
     "text": [
      "Searching documents nearest to the question.\n",
      "Getting summary for conversation 1\n",
      "Getting summary for conversation 2\n",
      "Getting summary for conversation 3\n",
      "Getting answer for the question.\n",
      "Answer took 41.5664 seconds\n",
      "\n",
      "\n",
      "Question: How can I structure a good Data Science team?\n",
      "Answer: To structure a good data science team, consider the following recommendations based on the conversations from the MLOps.community slack channel:\n",
      "\n",
      "1. Collaborative Approach: Foster collaboration with other teams in the company. This can be challenged by the unpredictable nature of data science projects, but it is essential for the successful realization of these projects. \n",
      "2. Education: Conduct educational sessions for stakeholders to help them understand the effort involved and results of your data science projects.\n",
      "3. Honest Discussions: Encourage open conversations between product managers and data scientists about the robustness of potential solutions, including discussions about the acceptable accuracy of models.\n",
      "4. Cross-functional Teams: Either embed data scientists in product teams for better integration, or build cross-functional teams that include data scientists, product managers, and other relevant roles.\n",
      "5. Iterative Process: Adopt an iterative and exploratory approach to projects, allowing for value to be built over time and a wider set of questions addressed.\n",
      "6. Role of the Data Scientist: Data scientists could be embedded in product teams but also supported by centralized ML platform teams and data science centers of competence.\n",
      "7. Management: It's crucial to have a head or manager with knowledge of data science and ML in production to facilitate the transition from projects to production. This person should have understanding of both the technical aspects of data science and the business or product direction.\n",
      "\n",
      "Remember, the structure of a data science team may vary based on the company's requirements, size, and available resources. It's also important to select problems to tackle that are suitable for the capabilities of your team and valuable for the business.\n"
     ]
    }
   ],
   "source": [
    "question = \"How can I structure a good Data Science team?\"\n",
    "answer = get_answer(question)\n",
    "print(f\"\\n\\nQuestion: {question}\\nAnswer: {answer}\")"
   ]
  },
  {
   "cell_type": "code",
   "execution_count": 42,
   "metadata": {
    "colab": {
     "base_uri": "https://localhost:8080/",
     "height": 267
    },
    "executionInfo": {
     "elapsed": 47208,
     "status": "ok",
     "timestamp": 1686709801666,
     "user": {
      "displayName": "Rahul Parundekar",
      "userId": "17922132101761181839"
     },
     "user_tz": 420
    },
    "id": "Hx4hElL0kzlV",
    "outputId": "4ca0ff52-d2fa-45da-8030-38e035cd9178"
   },
   "outputs": [
    {
     "data": {
      "text/html": [
       "\n",
       "  <style>\n",
       "    pre {\n",
       "        white-space: pre-wrap;\n",
       "    }\n",
       "  </style>\n",
       "  "
      ],
      "text/plain": [
       "<IPython.core.display.HTML object>"
      ]
     },
     "metadata": {},
     "output_type": "display_data"
    },
    {
     "data": {
      "text/html": [
       "\n",
       "  <style>\n",
       "    pre {\n",
       "        white-space: pre-wrap;\n",
       "    }\n",
       "  </style>\n",
       "  "
      ],
      "text/plain": [
       "<IPython.core.display.HTML object>"
      ]
     },
     "metadata": {},
     "output_type": "display_data"
    },
    {
     "name": "stdout",
     "output_type": "stream",
     "text": [
      "Searching documents nearest to the question.\n",
      "Getting summary for conversation 1\n",
      "Getting summary for conversation 2\n",
      "Getting summary for conversation 3\n",
      "Getting answer for the question.\n",
      "Answer took 26.6817 seconds\n",
      "\n",
      "\n",
      "Question: What is the best way to train models for tabular data?\n",
      "Answer: Based on the conversations on the MLOps.community slack channel, it seems that many practitioners usually employ methods like gradient-boosted tree ensembles or boosted decision trees for tabular data. These methods are often higher performing than deep learning models on tabular datasets, are faster to train, and require less hardware. Therefore, they are usually preferred for quick iterations. However, deep learning can also improve results on tabular data, but it requires careful understanding and adaptation, and tends to consume more time and resources. If choosing deep learning models, incorporate smart sampling and limited hyperparameter tuning to optimize your models. The use of libraries like \"prophet\" for time series data and \"pytorch-widedeep\" for integrating tabular data with other data types has also been mentioned. Ultimately, the choice of model and tool also depends on the size of your data, the problem context, and regulatory or commercial constraints.\n"
     ]
    }
   ],
   "source": [
    "question = \"What is the best way to train models for tabular data?\"\n",
    "answer = get_answer(question)\n",
    "print(f\"\\n\\nQuestion: {question}\\nAnswer: {answer}\")"
   ]
  },
  {
   "cell_type": "markdown",
   "metadata": {},
   "source": [
    "That's it. Feel free to play around with this proof of concept. \n",
    "\n",
    "We also have companion code with some optimizations for you when you're ready"
   ]
  },
  {
   "cell_type": "markdown",
   "metadata": {},
   "source": [
    "## Observtions\n",
    "\n",
    "- We note that even though we need the UI to look like a Q&A system.\n",
    "- Also, another observation is that while answering, the code makes 4 calls to OpenAI - three to summarize and one to generate the response. \n",
    "\n",
    "So we optimize our code for the above and create the PoC."
   ]
  },
  {
   "cell_type": "markdown",
   "metadata": {},
   "source": []
  }
 ],
 "metadata": {
  "colab": {
   "authorship_tag": "ABX9TyNfGgXP5MpHq2EVyOLNt4Ca",
   "provenance": []
  },
  "kernelspec": {
   "display_name": "Python 3",
   "name": "python3"
  },
  "language_info": {
   "codemirror_mode": {
    "name": "ipython",
    "version": 3
   },
   "file_extension": ".py",
   "mimetype": "text/x-python",
   "name": "python",
   "nbconvert_exporter": "python",
   "pygments_lexer": "ipython3",
   "version": "3.8.18"
  }
 },
 "nbformat": 4,
 "nbformat_minor": 0
}
